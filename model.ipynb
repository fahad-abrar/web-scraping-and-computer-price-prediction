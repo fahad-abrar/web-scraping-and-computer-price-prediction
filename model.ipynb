{
 "cells": [
  {
   "cell_type": "code",
   "execution_count": 1,
   "metadata": {},
   "outputs": [],
   "source": [
    "import pandas as pd\n",
    "import numpy as np\n",
    "import seaborn as sns\n",
    "import matplotlib.pyplot as plt\n",
    "\n",
    "\n",
    "from sklearn.impute import KNNImputer\n",
    "from sklearn.preprocessing import LabelEncoder\n",
    "\n",
    "from sklearn.model_selection import train_test_split, GridSearchCV, RandomizedSearchCV\n",
    "from sklearn.preprocessing import MinMaxScaler, StandardScaler\n",
    "from xgboost import XGBClassifier\n",
    "\n",
    "\n",
    "from sklearn.metrics import confusion_matrix ,accuracy_score\n",
    "\n",
    "import warnings\n",
    "warnings.filterwarnings('ignore')\n",
    "import re"
   ]
  },
  {
   "cell_type": "code",
   "execution_count": 2,
   "metadata": {},
   "outputs": [],
   "source": [
    "# read the data set\n",
    "df = pd.read_csv('laptop_price.csv')"
   ]
  },
  {
   "cell_type": "code",
   "execution_count": 3,
   "metadata": {},
   "outputs": [
    {
     "data": {
      "text/html": [
       "<div>\n",
       "<style scoped>\n",
       "    .dataframe tbody tr th:only-of-type {\n",
       "        vertical-align: middle;\n",
       "    }\n",
       "\n",
       "    .dataframe tbody tr th {\n",
       "        vertical-align: top;\n",
       "    }\n",
       "\n",
       "    .dataframe thead th {\n",
       "        text-align: right;\n",
       "    }\n",
       "</style>\n",
       "<table border=\"1\" class=\"dataframe\">\n",
       "  <thead>\n",
       "    <tr style=\"text-align: right;\">\n",
       "      <th></th>\n",
       "      <th>product_name</th>\n",
       "      <th>product_brand</th>\n",
       "      <th>product_model</th>\n",
       "      <th>chipset</th>\n",
       "      <th>ram</th>\n",
       "      <th>graphics</th>\n",
       "      <th>webcams</th>\n",
       "      <th>connectivities</th>\n",
       "      <th>batteries</th>\n",
       "      <th>adapters</th>\n",
       "      <th>operating_system</th>\n",
       "      <th>dimentions</th>\n",
       "      <th>weight</th>\n",
       "      <th>product_price</th>\n",
       "    </tr>\n",
       "  </thead>\n",
       "  <tbody>\n",
       "    <tr>\n",
       "      <th>0</th>\n",
       "      <td>HP PAVILION 15-EG2117TU 15.6 INCH FULL HD IPS ...</td>\n",
       "      <td>HP</td>\n",
       "      <td>PAVILION 15-EG2117TU</td>\n",
       "      <td>Intel Core i7-1260P\\nup to 4.7 GHz \\nIntel Tur...</td>\n",
       "      <td>8 GB DDR4-3200 MHz RAM (2 x 4 GB)</td>\n",
       "      <td>Integrated\\nIntel Iris X Graphics</td>\n",
       "      <td>HP Wide Vision 720p HD camera with temporal no...</td>\n",
       "      <td>Wi-Fi- MediaTek Wi-Fi 6 MT7921 (2x2)\\nBluetoot...</td>\n",
       "      <td>Battery type- 3-cell, 41 Wh Li-ion \\nBattery l...</td>\n",
       "      <td>65 W Smart AC power adapter</td>\n",
       "      <td>Windows 11 Home</td>\n",
       "      <td>36.02 x 23.4 x 1.79 cm</td>\n",
       "      <td>1.74 kg</td>\n",
       "      <td>112,500৳</td>\n",
       "    </tr>\n",
       "    <tr>\n",
       "      <th>1</th>\n",
       "      <td>ASUS TUF GAMING A15 FA507RM 15.6 INCH FHD 144H...</td>\n",
       "      <td>Asus</td>\n",
       "      <td>TUF GAMING A15 FA507RM</td>\n",
       "      <td>AMD Ryzen 7 6800H Mobile Processor (8-core/16-...</td>\n",
       "      <td>16GB DDR5-4800MHZ SO-DIMM, \\nMax Capacity:32GB...</td>\n",
       "      <td>NVIDIA® GeForce RTX™ 3060 6GB GDDR6 Laptop GPU...</td>\n",
       "      <td>720P HD camera</td>\n",
       "      <td>Wi-Fi 6(802.11ax) (Dual band) 2*2</td>\n",
       "      <td>90WHrs, 4S1P, 4-cell Li-ion\\n</td>\n",
       "      <td>ø6.0, 240W AC Adapter, Output: 20V DC, 12A, 24...</td>\n",
       "      <td>Windows 11 Home\\n</td>\n",
       "      <td>35.4 x 25.1 x 2.24 ~ 2.49 cm \\n(13.94\" x 9.88\"...</td>\n",
       "      <td>2.20 Kg (4.85 lbs)\\n</td>\n",
       "      <td>181,900৳</td>\n",
       "    </tr>\n",
       "  </tbody>\n",
       "</table>\n",
       "</div>"
      ],
      "text/plain": [
       "                                        product_name product_brand  \\\n",
       "0  HP PAVILION 15-EG2117TU 15.6 INCH FULL HD IPS ...            HP   \n",
       "1  ASUS TUF GAMING A15 FA507RM 15.6 INCH FHD 144H...          Asus   \n",
       "\n",
       "            product_model                                            chipset  \\\n",
       "0    PAVILION 15-EG2117TU  Intel Core i7-1260P\\nup to 4.7 GHz \\nIntel Tur...   \n",
       "1  TUF GAMING A15 FA507RM  AMD Ryzen 7 6800H Mobile Processor (8-core/16-...   \n",
       "\n",
       "                                                 ram  \\\n",
       "0                  8 GB DDR4-3200 MHz RAM (2 x 4 GB)   \n",
       "1  16GB DDR5-4800MHZ SO-DIMM, \\nMax Capacity:32GB...   \n",
       "\n",
       "                                            graphics  \\\n",
       "0                  Integrated\\nIntel Iris X Graphics   \n",
       "1  NVIDIA® GeForce RTX™ 3060 6GB GDDR6 Laptop GPU...   \n",
       "\n",
       "                                             webcams  \\\n",
       "0  HP Wide Vision 720p HD camera with temporal no...   \n",
       "1                                     720P HD camera   \n",
       "\n",
       "                                      connectivities  \\\n",
       "0  Wi-Fi- MediaTek Wi-Fi 6 MT7921 (2x2)\\nBluetoot...   \n",
       "1                 Wi-Fi 6(802.11ax) (Dual band) 2*2    \n",
       "\n",
       "                                           batteries  \\\n",
       "0  Battery type- 3-cell, 41 Wh Li-ion \\nBattery l...   \n",
       "1                      90WHrs, 4S1P, 4-cell Li-ion\\n   \n",
       "\n",
       "                                            adapters   operating_system  \\\n",
       "0                        65 W Smart AC power adapter   Windows 11 Home    \n",
       "1  ø6.0, 240W AC Adapter, Output: 20V DC, 12A, 24...  Windows 11 Home\\n   \n",
       "\n",
       "                                          dimentions                weight  \\\n",
       "0                             36.02 x 23.4 x 1.79 cm              1.74 kg    \n",
       "1  35.4 x 25.1 x 2.24 ~ 2.49 cm \\n(13.94\" x 9.88\"...  2.20 Kg (4.85 lbs)\\n   \n",
       "\n",
       "  product_price  \n",
       "0      112,500৳  \n",
       "1      181,900৳  "
      ]
     },
     "execution_count": 3,
     "metadata": {},
     "output_type": "execute_result"
    }
   ],
   "source": [
    "df.head(2)"
   ]
  },
  {
   "cell_type": "markdown",
   "metadata": {},
   "source": [
    "## exploratory data analysis (EDA)"
   ]
  },
  {
   "cell_type": "code",
   "execution_count": 4,
   "metadata": {},
   "outputs": [
    {
     "name": "stdout",
     "output_type": "stream",
     "text": [
      "<class 'pandas.core.frame.DataFrame'>\n",
      "RangeIndex: 1100 entries, 0 to 1099\n",
      "Data columns (total 14 columns):\n",
      " #   Column            Non-Null Count  Dtype \n",
      "---  ------            --------------  ----- \n",
      " 0   product_name      1100 non-null   object\n",
      " 1   product_brand     1100 non-null   object\n",
      " 2   product_model     1100 non-null   object\n",
      " 3   chipset           1100 non-null   object\n",
      " 4   ram               1100 non-null   object\n",
      " 5   graphics          1100 non-null   object\n",
      " 6   webcams           1100 non-null   object\n",
      " 7   connectivities    1100 non-null   object\n",
      " 8   batteries         1100 non-null   object\n",
      " 9   adapters          1100 non-null   object\n",
      " 10  operating_system  1099 non-null   object\n",
      " 11  dimentions        1100 non-null   object\n",
      " 12  weight            1100 non-null   object\n",
      " 13  product_price     1100 non-null   object\n",
      "dtypes: object(14)\n",
      "memory usage: 120.4+ KB\n"
     ]
    }
   ],
   "source": [
    "df.info()"
   ]
  },
  {
   "cell_type": "code",
   "execution_count": 5,
   "metadata": {},
   "outputs": [],
   "source": [
    "# extract ram form the df and restore this in ram column\n",
    "\n",
    "df['ram'] = df['ram'].apply(lambda x : re.findall(r'\\b\\d+\\s*(?:GB|MB|TB)\\b', x))\n",
    "df['ram'] = df['ram'].str.get(0)\n",
    "df['ram'] = df['ram'].apply(lambda x: re.findall(r'\\d+',str(x))).str.get(0)"
   ]
  },
  {
   "cell_type": "code",
   "execution_count": 6,
   "metadata": {},
   "outputs": [
    {
     "data": {
      "text/plain": [
       "0                    Integrated\\nIntel Iris X Graphics\n",
       "1    NVIDIA® GeForce RTX™ 3060 6GB GDDR6 Laptop GPU...\n",
       "2    Graphic: NVIDIA GeForce RTX 3060 Laptop GPU \\n...\n",
       "3    NVIDIA GeForce RTX 3050 Ti Laptop GPU, 1745MHz...\n",
       "4                 NVIDIA® GeForce RTX™ 3060 Laptop GPU\n",
       "Name: graphics, dtype: object"
      ]
     },
     "execution_count": 6,
     "metadata": {},
     "output_type": "execute_result"
    }
   ],
   "source": [
    "df['graphics'].head()"
   ]
  },
  {
   "cell_type": "code",
   "execution_count": 7,
   "metadata": {},
   "outputs": [
    {
     "data": {
      "text/plain": [
       "graphics\n",
       "intel     450\n",
       "nvidia    270\n",
       "others    247\n",
       "amd       133\n",
       "Name: count, dtype: int64"
      ]
     },
     "execution_count": 7,
     "metadata": {},
     "output_type": "execute_result"
    }
   ],
   "source": [
    "# extract graphics form the df and restore this in graphics column\n",
    "\n",
    "def grap(text):\n",
    "    # Categorizes graphics into specific groups based on their names.\n",
    "    \n",
    "    if 'Intel' in text:\n",
    "        return 'intel'\n",
    "    elif 'AMD' in text:\n",
    "        return 'amd'\n",
    "    elif 'NVIDIA' in text:\n",
    "        return 'nvidia'\n",
    "    else:\n",
    "        return 'others'\n",
    "df['graphics'] = df['graphics'].apply(grap)\n",
    "df['graphics'].value_counts()"
   ]
  },
  {
   "cell_type": "code",
   "execution_count": 9,
   "metadata": {},
   "outputs": [
    {
     "data": {
      "text/plain": [
       "chipset\n",
       "others      273\n",
       "intel i5    267\n",
       "amd         219\n",
       "intel i7    212\n",
       "intel i3    129\n",
       "Name: count, dtype: int64"
      ]
     },
     "execution_count": 9,
     "metadata": {},
     "output_type": "execute_result"
    }
   ],
   "source": [
    "# extract chip or prcessor from the df and store this in chipset column\n",
    "\n",
    "df['chipset'] = df['chipset'].apply(lambda x : x.lower())\n",
    "\n",
    "def chip(text):\n",
    "    # Categorizes chipsets into specific groups based on their names.\n",
    "\n",
    "    if 'intel' in text and 'i7' in text:\n",
    "        return 'intel i7'  \n",
    "    \n",
    "    elif 'intel' in text and 'i3' in text:\n",
    "        return 'intel i3'  \n",
    "      \n",
    "    elif 'intel' in text and 'i5' in text:\n",
    "        return 'intel i5' \n",
    "    \n",
    "    elif 'amd' in text:\n",
    "        return 'amd'  \n",
    "    \n",
    "    else:\n",
    "        return 'others' \n",
    "    \n",
    "df['chipset'] = df['chipset'].apply(chip) \n",
    "   \n",
    "df['chipset'].value_counts()"
   ]
  },
  {
   "cell_type": "code",
   "execution_count": 10,
   "metadata": {},
   "outputs": [
    {
     "data": {
      "text/plain": [
       "operating_system\n",
       "windows      882\n",
       "linax/dos    125\n",
       "macos         53\n",
       "others        40\n",
       "Name: count, dtype: int64"
      ]
     },
     "execution_count": 10,
     "metadata": {},
     "output_type": "execute_result"
    }
   ],
   "source": [
    "# extract os from the data and restore this in operating system column\n",
    "\n",
    "df['operating_system'] = df['operating_system'].apply(lambda x : str(x).lower())\n",
    "\n",
    "def os(text):\n",
    "# Categorizes operating system into specific groups based on their names.\n",
    "\n",
    "    if 'win' in text:\n",
    "        return 'windows'\n",
    "    \n",
    "    elif 'macos' in text:\n",
    "        return 'macos'\n",
    "    \n",
    "    elif 'linax' in text or 'dos' in text:\n",
    "        return 'linax/dos'\n",
    "    \n",
    "    else:\n",
    "        return 'others'\n",
    "\n",
    "\n",
    "df['operating_system']= df['operating_system'].apply(os)\n",
    "\n",
    "df['operating_system'].value_counts()"
   ]
  },
  {
   "cell_type": "code",
   "execution_count": 11,
   "metadata": {},
   "outputs": [],
   "source": [
    "# extract batteries from the data and restore this in batteries column\n",
    "\n",
    "df['batteries'] = df['batteries'].apply(lambda x : re.findall(r'\\b\\d+\\s*(?:wh|Wh|whrs)\\b', str(x).lower()))\n",
    "df['batteries'] = df['batteries'].apply(lambda x: re.findall(r'\\d+', str(x))).str.get(0)"
   ]
  },
  {
   "cell_type": "code",
   "execution_count": 12,
   "metadata": {},
   "outputs": [],
   "source": [
    "# extract adpter from the data and restore this in adapter column\n",
    "\n",
    "df['adapters'] = df['adapters'].apply(lambda x : re.findall( r'\\b\\d+\\s*(?:w|W)\\b', str(x))).str.get(0)\n",
    "df['adapters'] = df['adapters'].apply(lambda x : re.findall(r'\\d+', str(x))).str.get(0)"
   ]
  },
  {
   "cell_type": "code",
   "execution_count": 13,
   "metadata": {},
   "outputs": [],
   "source": [
    "# extract product model from the data and restore this in product model column\n",
    "\n",
    "df['product_model'] = df['product_model'].apply(lambda x : x.lower())\n",
    "\n",
    "def model(text):\n",
    "    if 'ideapad' in text:\n",
    "        return 'ideapad'\n",
    "    elif 'vivobook' in text:\n",
    "        return 'vivobook'\n",
    "    elif 'macbook' in text:\n",
    "        return 'macbook'\n",
    "    elif 'inspiron' in text:\n",
    "        return 'inspiron'\n",
    "    elif 'tuf' in text:\n",
    "        return 'tuf'\n",
    "    elif 'aspire' in text:\n",
    "        return 'aspire'\n",
    "    elif 'zenbook' in text:\n",
    "        return 'zenbook'\n",
    "    elif 'legion' in text:\n",
    "        return 'legion'\n",
    "    elif 'rog' in text:\n",
    "        return 'rog'\n",
    "    elif 'expertbook' in text:\n",
    "        return 'expertbook'\n",
    "    elif 'modern' in text:\n",
    "        return 'modern'\n",
    "    elif 'pavilion' in text:\n",
    "        return 'pavilion'\n",
    "    elif 'probook' in text:\n",
    "        return 'probook'\n",
    "    else:\n",
    "        return 'others'\n",
    "\n",
    "df['product_model'] = df['product_model'].apply(model)\n",
    " "
   ]
  },
  {
   "cell_type": "code",
   "execution_count": 14,
   "metadata": {},
   "outputs": [
    {
     "data": {
      "text/plain": [
       "product_brand\n",
       "asus           338\n",
       "lenovo         260\n",
       "hp             115\n",
       "msi             89\n",
       "acer            79\n",
       "dell            74\n",
       "apple           53\n",
       "other brand     51\n",
       "avita           24\n",
       "gigabyte        17\n",
       "Name: count, dtype: int64"
      ]
     },
     "execution_count": 14,
     "metadata": {},
     "output_type": "execute_result"
    }
   ],
   "source": [
    "# extract product brand from the data and restore this in product brand column\n",
    "\n",
    "brand_mapping = {\n",
    "    'asus': 'asus',\n",
    "    'lenovo': 'lenovo',\n",
    "    'hp': 'hp',\n",
    "    'msi': 'msi',\n",
    "    'acer': 'acer',\n",
    "    'dell': 'dell',\n",
    "    'apple': 'apple',\n",
    "    'avita': 'avita',\n",
    "    'gigabyte': 'gigabyte'\n",
    "}\n",
    "\n",
    "def map_brand(text):\n",
    "    text = str(text).lower()\n",
    "    for brand, category in brand_mapping.items():\n",
    "        if brand in text:\n",
    "            return category\n",
    "    return 'other brand'  # Default value for other brands\n",
    "\n",
    "df['product_brand'] = df['product_brand'].map(map_brand)\n",
    "df['product_brand'].value_counts()\n"
   ]
  },
  {
   "cell_type": "code",
   "execution_count": 15,
   "metadata": {},
   "outputs": [
    {
     "data": {
      "text/plain": [
       "0    1.74\n",
       "1    2.20\n",
       "2    2.30\n",
       "Name: weight, dtype: object"
      ]
     },
     "execution_count": 15,
     "metadata": {},
     "output_type": "execute_result"
    }
   ],
   "source": [
    "# extract weight from the df and restore this in weight column\n",
    "\n",
    "df['weight'] = df['weight'].apply(lambda x : re.findall(r'\\d+.\\d+', str(x))).str.get(0)\n",
    "df['weight'] = df['weight'].apply(lambda x : str(x).replace(',' , ''))\n",
    "df['weight'].head(3)"
   ]
  },
  {
   "cell_type": "code",
   "execution_count": 16,
   "metadata": {},
   "outputs": [
    {
     "data": {
      "text/plain": [
       "0    112500\n",
       "1    181900\n",
       "2    218000\n",
       "Name: product_price, dtype: object"
      ]
     },
     "execution_count": 16,
     "metadata": {},
     "output_type": "execute_result"
    }
   ],
   "source": [
    "# extract product price  from the df and restore this in product price column\n",
    "\n",
    "df['product_price'] = df['product_price'].str.replace(',', '')\n",
    "df['product_price'] = df['product_price'].apply(lambda x : re.findall(r'\\d+', str(x))).str.get(0)\n",
    "df['product_price'].head(3)"
   ]
  },
  {
   "cell_type": "code",
   "execution_count": 17,
   "metadata": {},
   "outputs": [
    {
     "data": {
      "text/plain": [
       "ssd\n",
       "512    634\n",
       "1      232\n",
       "256     92\n",
       "Name: count, dtype: int64"
      ]
     },
     "execution_count": 17,
     "metadata": {},
     "output_type": "execute_result"
    }
   ],
   "source": [
    "# extract ssd from the df and restore this in ssd column\n",
    "\n",
    "df['ssd'] = df['product_name'].apply(lambda x : re.findall(r'\\b(\\d+s*(?:gb|tb)\\s*(?:hdd|ssd))\\b', str(x).lower())).str.get(0)\n",
    "df['ssd'] = df['ssd'].apply(lambda x : re.findall(r'\\d+', str(x))).str.get(0)\n",
    "df['ssd'].value_counts().head(3)"
   ]
  },
  {
   "cell_type": "code",
   "execution_count": 18,
   "metadata": {},
   "outputs": [
    {
     "data": {
      "text/plain": [
       "0    no\n",
       "1    no\n",
       "2    no\n",
       "3    no\n",
       "4    no\n",
       "Name: touch, dtype: object"
      ]
     },
     "execution_count": 18,
     "metadata": {},
     "output_type": "execute_result"
    }
   ],
   "source": [
    "# extract touch from the df and restore this in touch column\n",
    "\n",
    "df['touch'] = df['product_name'].apply(lambda x : 'yes' if 'touch' in str(x).lower() else 'no' )\n",
    "df['touch'].head()"
   ]
  },
  {
   "cell_type": "code",
   "execution_count": 19,
   "metadata": {},
   "outputs": [],
   "source": [
    "def disp(text):\n",
    "    text = str(text).lower()\n",
    "    if 'fhd' in text or 'hd' in text:\n",
    "        return 'fhd'\n",
    "    elif 'ips' in text:\n",
    "        return 'ips'\n",
    "    elif 'led' in text:\n",
    "        return 'led'\n",
    "    else:\n",
    "        return 'normal'\n",
    "\n",
    "df['display'] = df['product_name'].apply(disp)\n"
   ]
  },
  {
   "cell_type": "code",
   "execution_count": 20,
   "metadata": {},
   "outputs": [],
   "source": [
    "# drops all the unnecessary columns\n",
    "df.drop(columns= ['product_name', 'dimentions','connectivities', 'webcams'], axis=1, inplace=True)"
   ]
  },
  {
   "cell_type": "code",
   "execution_count": 21,
   "metadata": {},
   "outputs": [],
   "source": [
    "# convert all in upper case \n",
    "col_list = ['product_brand', 'product_model', 'chipset', 'graphics', 'operating_system', 'touch', 'display']\n",
    "for col in col_list:\n",
    "    df[col] = df[col].apply(lambda x: str(x).upper())\n"
   ]
  },
  {
   "cell_type": "code",
   "execution_count": 22,
   "metadata": {},
   "outputs": [
    {
     "data": {
      "text/html": [
       "<div>\n",
       "<style scoped>\n",
       "    .dataframe tbody tr th:only-of-type {\n",
       "        vertical-align: middle;\n",
       "    }\n",
       "\n",
       "    .dataframe tbody tr th {\n",
       "        vertical-align: top;\n",
       "    }\n",
       "\n",
       "    .dataframe thead th {\n",
       "        text-align: right;\n",
       "    }\n",
       "</style>\n",
       "<table border=\"1\" class=\"dataframe\">\n",
       "  <thead>\n",
       "    <tr style=\"text-align: right;\">\n",
       "      <th></th>\n",
       "      <th>product_brand</th>\n",
       "      <th>product_model</th>\n",
       "      <th>chipset</th>\n",
       "      <th>ram</th>\n",
       "      <th>graphics</th>\n",
       "      <th>batteries</th>\n",
       "      <th>adapters</th>\n",
       "      <th>operating_system</th>\n",
       "      <th>weight</th>\n",
       "      <th>product_price</th>\n",
       "      <th>ssd</th>\n",
       "      <th>touch</th>\n",
       "      <th>display</th>\n",
       "    </tr>\n",
       "  </thead>\n",
       "  <tbody>\n",
       "    <tr>\n",
       "      <th>0</th>\n",
       "      <td>HP</td>\n",
       "      <td>PAVILION</td>\n",
       "      <td>INTEL I7</td>\n",
       "      <td>8</td>\n",
       "      <td>INTEL</td>\n",
       "      <td>41</td>\n",
       "      <td>65</td>\n",
       "      <td>WINDOWS</td>\n",
       "      <td>1.74</td>\n",
       "      <td>112500</td>\n",
       "      <td>512</td>\n",
       "      <td>NO</td>\n",
       "      <td>FHD</td>\n",
       "    </tr>\n",
       "    <tr>\n",
       "      <th>1</th>\n",
       "      <td>ASUS</td>\n",
       "      <td>TUF</td>\n",
       "      <td>AMD</td>\n",
       "      <td>16</td>\n",
       "      <td>NVIDIA</td>\n",
       "      <td>90</td>\n",
       "      <td>240</td>\n",
       "      <td>WINDOWS</td>\n",
       "      <td>2.20</td>\n",
       "      <td>181900</td>\n",
       "      <td>512</td>\n",
       "      <td>NO</td>\n",
       "      <td>FHD</td>\n",
       "    </tr>\n",
       "    <tr>\n",
       "      <th>2</th>\n",
       "      <td>ASUS</td>\n",
       "      <td>ROG</td>\n",
       "      <td>AMD</td>\n",
       "      <td>16</td>\n",
       "      <td>NVIDIA</td>\n",
       "      <td>90</td>\n",
       "      <td>240</td>\n",
       "      <td>WINDOWS</td>\n",
       "      <td>2.30</td>\n",
       "      <td>218000</td>\n",
       "      <td>512</td>\n",
       "      <td>NO</td>\n",
       "      <td>FHD</td>\n",
       "    </tr>\n",
       "    <tr>\n",
       "      <th>3</th>\n",
       "      <td>ASUS</td>\n",
       "      <td>TUF</td>\n",
       "      <td>AMD</td>\n",
       "      <td>16</td>\n",
       "      <td>NVIDIA</td>\n",
       "      <td>90</td>\n",
       "      <td>180</td>\n",
       "      <td>WINDOWS</td>\n",
       "      <td>2.20</td>\n",
       "      <td>153900</td>\n",
       "      <td>512</td>\n",
       "      <td>NO</td>\n",
       "      <td>FHD</td>\n",
       "    </tr>\n",
       "    <tr>\n",
       "      <th>4</th>\n",
       "      <td>ASUS</td>\n",
       "      <td>TUF</td>\n",
       "      <td>AMD</td>\n",
       "      <td>16</td>\n",
       "      <td>NVIDIA</td>\n",
       "      <td>90</td>\n",
       "      <td>200</td>\n",
       "      <td>WINDOWS</td>\n",
       "      <td>2.60</td>\n",
       "      <td>176000</td>\n",
       "      <td>512</td>\n",
       "      <td>NO</td>\n",
       "      <td>FHD</td>\n",
       "    </tr>\n",
       "    <tr>\n",
       "      <th>5</th>\n",
       "      <td>ASUS</td>\n",
       "      <td>ROG</td>\n",
       "      <td>AMD</td>\n",
       "      <td>16</td>\n",
       "      <td>NVIDIA</td>\n",
       "      <td>90</td>\n",
       "      <td>100</td>\n",
       "      <td>WINDOWS</td>\n",
       "      <td>1.90</td>\n",
       "      <td>265000</td>\n",
       "      <td>1</td>\n",
       "      <td>NO</td>\n",
       "      <td>FHD</td>\n",
       "    </tr>\n",
       "    <tr>\n",
       "      <th>6</th>\n",
       "      <td>HP</td>\n",
       "      <td>PROBOOK</td>\n",
       "      <td>INTEL I5</td>\n",
       "      <td>8</td>\n",
       "      <td>INTEL</td>\n",
       "      <td>51</td>\n",
       "      <td>NaN</td>\n",
       "      <td>WINDOWS</td>\n",
       "      <td>1.38</td>\n",
       "      <td>90000</td>\n",
       "      <td>512</td>\n",
       "      <td>NO</td>\n",
       "      <td>FHD</td>\n",
       "    </tr>\n",
       "    <tr>\n",
       "      <th>7</th>\n",
       "      <td>LENOVO</td>\n",
       "      <td>IDEAPAD</td>\n",
       "      <td>AMD</td>\n",
       "      <td>8</td>\n",
       "      <td>AMD</td>\n",
       "      <td>45</td>\n",
       "      <td>65</td>\n",
       "      <td>LINAX/DOS</td>\n",
       "      <td>1.5</td>\n",
       "      <td>66000</td>\n",
       "      <td>512</td>\n",
       "      <td>NO</td>\n",
       "      <td>FHD</td>\n",
       "    </tr>\n",
       "    <tr>\n",
       "      <th>8</th>\n",
       "      <td>LENOVO</td>\n",
       "      <td>IDEAPAD</td>\n",
       "      <td>INTEL I3</td>\n",
       "      <td>4</td>\n",
       "      <td>INTEL</td>\n",
       "      <td>35</td>\n",
       "      <td>65</td>\n",
       "      <td>WINDOWS</td>\n",
       "      <td>1.85</td>\n",
       "      <td>47500</td>\n",
       "      <td>256</td>\n",
       "      <td>NO</td>\n",
       "      <td>FHD</td>\n",
       "    </tr>\n",
       "    <tr>\n",
       "      <th>9</th>\n",
       "      <td>LENOVO</td>\n",
       "      <td>IDEAPAD</td>\n",
       "      <td>INTEL I5</td>\n",
       "      <td>8</td>\n",
       "      <td>NVIDIA</td>\n",
       "      <td>38</td>\n",
       "      <td>65</td>\n",
       "      <td>WINDOWS</td>\n",
       "      <td>1.6</td>\n",
       "      <td>78500</td>\n",
       "      <td>512</td>\n",
       "      <td>NO</td>\n",
       "      <td>FHD</td>\n",
       "    </tr>\n",
       "  </tbody>\n",
       "</table>\n",
       "</div>"
      ],
      "text/plain": [
       "  product_brand product_model   chipset ram graphics batteries adapters  \\\n",
       "0            HP      PAVILION  INTEL I7   8    INTEL        41       65   \n",
       "1          ASUS           TUF       AMD  16   NVIDIA        90      240   \n",
       "2          ASUS           ROG       AMD  16   NVIDIA        90      240   \n",
       "3          ASUS           TUF       AMD  16   NVIDIA        90      180   \n",
       "4          ASUS           TUF       AMD  16   NVIDIA        90      200   \n",
       "5          ASUS           ROG       AMD  16   NVIDIA        90      100   \n",
       "6            HP       PROBOOK  INTEL I5   8    INTEL        51      NaN   \n",
       "7        LENOVO       IDEAPAD       AMD   8      AMD        45       65   \n",
       "8        LENOVO       IDEAPAD  INTEL I3   4    INTEL        35       65   \n",
       "9        LENOVO       IDEAPAD  INTEL I5   8   NVIDIA        38       65   \n",
       "\n",
       "  operating_system weight product_price  ssd touch display  \n",
       "0          WINDOWS   1.74        112500  512    NO     FHD  \n",
       "1          WINDOWS   2.20        181900  512    NO     FHD  \n",
       "2          WINDOWS   2.30        218000  512    NO     FHD  \n",
       "3          WINDOWS   2.20        153900  512    NO     FHD  \n",
       "4          WINDOWS   2.60        176000  512    NO     FHD  \n",
       "5          WINDOWS   1.90        265000    1    NO     FHD  \n",
       "6          WINDOWS   1.38         90000  512    NO     FHD  \n",
       "7        LINAX/DOS    1.5         66000  512    NO     FHD  \n",
       "8          WINDOWS   1.85         47500  256    NO     FHD  \n",
       "9          WINDOWS    1.6         78500  512    NO     FHD  "
      ]
     },
     "execution_count": 22,
     "metadata": {},
     "output_type": "execute_result"
    }
   ],
   "source": [
    "df.head(10)"
   ]
  },
  {
   "cell_type": "code",
   "execution_count": 23,
   "metadata": {},
   "outputs": [
    {
     "name": "stdout",
     "output_type": "stream",
     "text": [
      "<class 'pandas.core.frame.DataFrame'>\n",
      "Index: 665 entries, 0 to 664\n",
      "Data columns (total 13 columns):\n",
      " #   Column            Non-Null Count  Dtype \n",
      "---  ------            --------------  ----- \n",
      " 0   product_brand     665 non-null    object\n",
      " 1   product_model     665 non-null    object\n",
      " 2   chipset           665 non-null    object\n",
      " 3   ram               533 non-null    object\n",
      " 4   graphics          665 non-null    object\n",
      " 5   batteries         442 non-null    object\n",
      " 6   adapters          392 non-null    object\n",
      " 7   operating_system  665 non-null    object\n",
      " 8   weight            665 non-null    object\n",
      " 9   product_price     665 non-null    object\n",
      " 10  ssd               567 non-null    object\n",
      " 11  touch             665 non-null    object\n",
      " 12  display           665 non-null    object\n",
      "dtypes: object(13)\n",
      "memory usage: 72.7+ KB\n"
     ]
    }
   ],
   "source": [
    "# filter all column on basis of null product price column\n",
    "filtered_df = df[pd.notna(df['product_price'])]\n",
    "filtered_df.info()"
   ]
  },
  {
   "cell_type": "code",
   "execution_count": 24,
   "metadata": {},
   "outputs": [],
   "source": [
    "# encoded all the categorical column \n",
    "\n",
    "col_list = ['product_brand', 'product_model', 'chipset', 'graphics', 'operating_system', 'touch', 'display']\n",
    "lvl_encoder = LabelEncoder()\n",
    "for col in col_list:\n",
    "    filtered_df[col] = lvl_encoder.fit_transform(filtered_df[[col]])\n",
    "\n"
   ]
  },
  {
   "cell_type": "code",
   "execution_count": 25,
   "metadata": {},
   "outputs": [
    {
     "data": {
      "text/html": [
       "<div>\n",
       "<style scoped>\n",
       "    .dataframe tbody tr th:only-of-type {\n",
       "        vertical-align: middle;\n",
       "    }\n",
       "\n",
       "    .dataframe tbody tr th {\n",
       "        vertical-align: top;\n",
       "    }\n",
       "\n",
       "    .dataframe thead th {\n",
       "        text-align: right;\n",
       "    }\n",
       "</style>\n",
       "<table border=\"1\" class=\"dataframe\">\n",
       "  <thead>\n",
       "    <tr style=\"text-align: right;\">\n",
       "      <th></th>\n",
       "      <th>product_brand</th>\n",
       "      <th>product_model</th>\n",
       "      <th>chipset</th>\n",
       "      <th>ram</th>\n",
       "      <th>graphics</th>\n",
       "      <th>batteries</th>\n",
       "      <th>adapters</th>\n",
       "      <th>operating_system</th>\n",
       "      <th>weight</th>\n",
       "      <th>product_price</th>\n",
       "      <th>ssd</th>\n",
       "      <th>touch</th>\n",
       "      <th>display</th>\n",
       "    </tr>\n",
       "  </thead>\n",
       "  <tbody>\n",
       "    <tr>\n",
       "      <th>0</th>\n",
       "      <td>6</td>\n",
       "      <td>8</td>\n",
       "      <td>3</td>\n",
       "      <td>8</td>\n",
       "      <td>1</td>\n",
       "      <td>41</td>\n",
       "      <td>65</td>\n",
       "      <td>3</td>\n",
       "      <td>1.74</td>\n",
       "      <td>112500</td>\n",
       "      <td>512</td>\n",
       "      <td>0</td>\n",
       "      <td>0</td>\n",
       "    </tr>\n",
       "    <tr>\n",
       "      <th>1</th>\n",
       "      <td>2</td>\n",
       "      <td>11</td>\n",
       "      <td>0</td>\n",
       "      <td>16</td>\n",
       "      <td>2</td>\n",
       "      <td>90</td>\n",
       "      <td>240</td>\n",
       "      <td>3</td>\n",
       "      <td>2.20</td>\n",
       "      <td>181900</td>\n",
       "      <td>512</td>\n",
       "      <td>0</td>\n",
       "      <td>0</td>\n",
       "    </tr>\n",
       "    <tr>\n",
       "      <th>2</th>\n",
       "      <td>2</td>\n",
       "      <td>10</td>\n",
       "      <td>0</td>\n",
       "      <td>16</td>\n",
       "      <td>2</td>\n",
       "      <td>90</td>\n",
       "      <td>240</td>\n",
       "      <td>3</td>\n",
       "      <td>2.30</td>\n",
       "      <td>218000</td>\n",
       "      <td>512</td>\n",
       "      <td>0</td>\n",
       "      <td>0</td>\n",
       "    </tr>\n",
       "    <tr>\n",
       "      <th>3</th>\n",
       "      <td>2</td>\n",
       "      <td>11</td>\n",
       "      <td>0</td>\n",
       "      <td>16</td>\n",
       "      <td>2</td>\n",
       "      <td>90</td>\n",
       "      <td>180</td>\n",
       "      <td>3</td>\n",
       "      <td>2.20</td>\n",
       "      <td>153900</td>\n",
       "      <td>512</td>\n",
       "      <td>0</td>\n",
       "      <td>0</td>\n",
       "    </tr>\n",
       "    <tr>\n",
       "      <th>4</th>\n",
       "      <td>2</td>\n",
       "      <td>11</td>\n",
       "      <td>0</td>\n",
       "      <td>16</td>\n",
       "      <td>2</td>\n",
       "      <td>90</td>\n",
       "      <td>200</td>\n",
       "      <td>3</td>\n",
       "      <td>2.60</td>\n",
       "      <td>176000</td>\n",
       "      <td>512</td>\n",
       "      <td>0</td>\n",
       "      <td>0</td>\n",
       "    </tr>\n",
       "  </tbody>\n",
       "</table>\n",
       "</div>"
      ],
      "text/plain": [
       "   product_brand  product_model  chipset ram  graphics batteries adapters  \\\n",
       "0              6              8        3   8         1        41       65   \n",
       "1              2             11        0  16         2        90      240   \n",
       "2              2             10        0  16         2        90      240   \n",
       "3              2             11        0  16         2        90      180   \n",
       "4              2             11        0  16         2        90      200   \n",
       "\n",
       "   operating_system weight product_price  ssd  touch  display  \n",
       "0                 3   1.74        112500  512      0        0  \n",
       "1                 3   2.20        181900  512      0        0  \n",
       "2                 3   2.30        218000  512      0        0  \n",
       "3                 3   2.20        153900  512      0        0  \n",
       "4                 3   2.60        176000  512      0        0  "
      ]
     },
     "execution_count": 25,
     "metadata": {},
     "output_type": "execute_result"
    }
   ],
   "source": [
    "# check the filtered and encoded df\n",
    "filtered_df.head()"
   ]
  },
  {
   "cell_type": "code",
   "execution_count": 26,
   "metadata": {},
   "outputs": [
    {
     "name": "stdout",
     "output_type": "stream",
     "text": [
      "<class 'pandas.core.frame.DataFrame'>\n",
      "Index: 665 entries, 0 to 664\n",
      "Data columns (total 13 columns):\n",
      " #   Column            Non-Null Count  Dtype \n",
      "---  ------            --------------  ----- \n",
      " 0   product_brand     665 non-null    int32 \n",
      " 1   product_model     665 non-null    int32 \n",
      " 2   chipset           665 non-null    int32 \n",
      " 3   ram               533 non-null    object\n",
      " 4   graphics          665 non-null    int32 \n",
      " 5   batteries         442 non-null    object\n",
      " 6   adapters          392 non-null    object\n",
      " 7   operating_system  665 non-null    int32 \n",
      " 8   weight            665 non-null    object\n",
      " 9   product_price     665 non-null    object\n",
      " 10  ssd               567 non-null    object\n",
      " 11  touch             665 non-null    int32 \n",
      " 12  display           665 non-null    int32 \n",
      "dtypes: int32(7), object(6)\n",
      "memory usage: 54.6+ KB\n"
     ]
    }
   ],
   "source": [
    "filtered_df.info()"
   ]
  },
  {
   "cell_type": "code",
   "execution_count": 27,
   "metadata": {},
   "outputs": [
    {
     "data": {
      "text/html": [
       "<div>\n",
       "<style scoped>\n",
       "    .dataframe tbody tr th:only-of-type {\n",
       "        vertical-align: middle;\n",
       "    }\n",
       "\n",
       "    .dataframe tbody tr th {\n",
       "        vertical-align: top;\n",
       "    }\n",
       "\n",
       "    .dataframe thead th {\n",
       "        text-align: right;\n",
       "    }\n",
       "</style>\n",
       "<table border=\"1\" class=\"dataframe\">\n",
       "  <thead>\n",
       "    <tr style=\"text-align: right;\">\n",
       "      <th></th>\n",
       "      <th>product_brand</th>\n",
       "      <th>product_model</th>\n",
       "      <th>chipset</th>\n",
       "      <th>ram</th>\n",
       "      <th>graphics</th>\n",
       "      <th>batteries</th>\n",
       "      <th>adapters</th>\n",
       "      <th>operating_system</th>\n",
       "      <th>weight</th>\n",
       "      <th>product_price</th>\n",
       "      <th>ssd</th>\n",
       "      <th>touch</th>\n",
       "      <th>display</th>\n",
       "    </tr>\n",
       "  </thead>\n",
       "  <tbody>\n",
       "    <tr>\n",
       "      <th>0</th>\n",
       "      <td>6.0</td>\n",
       "      <td>8.0</td>\n",
       "      <td>3.0</td>\n",
       "      <td>8.0</td>\n",
       "      <td>1.0</td>\n",
       "      <td>41.0</td>\n",
       "      <td>65.0</td>\n",
       "      <td>3.0</td>\n",
       "      <td>1.74</td>\n",
       "      <td>112500.0</td>\n",
       "      <td>512.0</td>\n",
       "      <td>0.0</td>\n",
       "      <td>0.0</td>\n",
       "    </tr>\n",
       "    <tr>\n",
       "      <th>1</th>\n",
       "      <td>2.0</td>\n",
       "      <td>11.0</td>\n",
       "      <td>0.0</td>\n",
       "      <td>16.0</td>\n",
       "      <td>2.0</td>\n",
       "      <td>90.0</td>\n",
       "      <td>240.0</td>\n",
       "      <td>3.0</td>\n",
       "      <td>2.20</td>\n",
       "      <td>181900.0</td>\n",
       "      <td>512.0</td>\n",
       "      <td>0.0</td>\n",
       "      <td>0.0</td>\n",
       "    </tr>\n",
       "    <tr>\n",
       "      <th>2</th>\n",
       "      <td>2.0</td>\n",
       "      <td>10.0</td>\n",
       "      <td>0.0</td>\n",
       "      <td>16.0</td>\n",
       "      <td>2.0</td>\n",
       "      <td>90.0</td>\n",
       "      <td>240.0</td>\n",
       "      <td>3.0</td>\n",
       "      <td>2.30</td>\n",
       "      <td>218000.0</td>\n",
       "      <td>512.0</td>\n",
       "      <td>0.0</td>\n",
       "      <td>0.0</td>\n",
       "    </tr>\n",
       "    <tr>\n",
       "      <th>3</th>\n",
       "      <td>2.0</td>\n",
       "      <td>11.0</td>\n",
       "      <td>0.0</td>\n",
       "      <td>16.0</td>\n",
       "      <td>2.0</td>\n",
       "      <td>90.0</td>\n",
       "      <td>180.0</td>\n",
       "      <td>3.0</td>\n",
       "      <td>2.20</td>\n",
       "      <td>153900.0</td>\n",
       "      <td>512.0</td>\n",
       "      <td>0.0</td>\n",
       "      <td>0.0</td>\n",
       "    </tr>\n",
       "    <tr>\n",
       "      <th>4</th>\n",
       "      <td>2.0</td>\n",
       "      <td>11.0</td>\n",
       "      <td>0.0</td>\n",
       "      <td>16.0</td>\n",
       "      <td>2.0</td>\n",
       "      <td>90.0</td>\n",
       "      <td>200.0</td>\n",
       "      <td>3.0</td>\n",
       "      <td>2.60</td>\n",
       "      <td>176000.0</td>\n",
       "      <td>512.0</td>\n",
       "      <td>0.0</td>\n",
       "      <td>0.0</td>\n",
       "    </tr>\n",
       "  </tbody>\n",
       "</table>\n",
       "</div>"
      ],
      "text/plain": [
       "   product_brand  product_model  chipset   ram  graphics  batteries  adapters  \\\n",
       "0            6.0            8.0      3.0   8.0       1.0       41.0      65.0   \n",
       "1            2.0           11.0      0.0  16.0       2.0       90.0     240.0   \n",
       "2            2.0           10.0      0.0  16.0       2.0       90.0     240.0   \n",
       "3            2.0           11.0      0.0  16.0       2.0       90.0     180.0   \n",
       "4            2.0           11.0      0.0  16.0       2.0       90.0     200.0   \n",
       "\n",
       "   operating_system  weight  product_price    ssd  touch  display  \n",
       "0               3.0    1.74       112500.0  512.0    0.0      0.0  \n",
       "1               3.0    2.20       181900.0  512.0    0.0      0.0  \n",
       "2               3.0    2.30       218000.0  512.0    0.0      0.0  \n",
       "3               3.0    2.20       153900.0  512.0    0.0      0.0  \n",
       "4               3.0    2.60       176000.0  512.0    0.0      0.0  "
      ]
     },
     "execution_count": 27,
     "metadata": {},
     "output_type": "execute_result"
    }
   ],
   "source": [
    "# impute the null value with knn imputer\n",
    "kn_imputer = KNNImputer(n_neighbors=5)\n",
    "kn_trns = kn_imputer.fit_transform(filtered_df)\n",
    "kndf = pd.DataFrame(kn_trns, columns=filtered_df.columns)\n",
    "kndf.head()"
   ]
  },
  {
   "cell_type": "code",
   "execution_count": 28,
   "metadata": {},
   "outputs": [],
   "source": [
    "# converting TB to GB\n",
    "kndf['ssd'] = kndf['ssd'].apply(lambda x : x * 1000 if x <= 4 else x)   \n"
   ]
  },
  {
   "cell_type": "markdown",
   "metadata": {},
   "source": [
    "## visualized the categorical column"
   ]
  },
  {
   "cell_type": "code",
   "execution_count": 60,
   "metadata": {},
   "outputs": [],
   "source": [
    "# Define a custom style\n",
    "custom_style = {\n",
    "    \"figure.facecolor\": \"#222831\",  # Background color\n",
    "    \"axes.facecolor\": \"#31363F\",     # Axes background color\n",
    "    \"axes.edgecolor\": \"white\",       # Axes edge color\n",
    "    \"axes.labelcolor\": \"white\",      # Axes label color\n",
    "    \"text.color\": \"white\",           # Text color\n",
    "    \"xtick.color\": \"white\",          # X-axis tick color\n",
    "    \"ytick.color\": \"white\",          # Y-axis tick color\n",
    "}\n",
    "\n",
    "plt.style.use([custom_style])  # Apply both styles"
   ]
  },
  {
   "cell_type": "code",
   "execution_count": 66,
   "metadata": {},
   "outputs": [
    {
     "data": {
      "image/png": "[encoded data removed]",
      "text/plain": [
       "<Figure size 1200x600 with 1 Axes>"
      ]
     },
     "metadata": {},
     "output_type": "display_data"
    }
   ],
   "source": [
    "plt.figure(figsize=(12,6))\n",
    "# bar plot respect to operating system\n",
    "\n",
    "sns.barplot(x=df['operating_system'], y =kndf['product_price'], color= '#54A4AF')\n",
    "plt.xticks(rotation='horizontal')\n",
    "plt.show()"
   ]
  },
  {
   "cell_type": "code",
   "execution_count": 67,
   "metadata": {},
   "outputs": [
    {
     "data": {
      "image/png": "[encoded data removed]",
      "text/plain": [
       "<Figure size 1200x600 with 1 Axes>"
      ]
     },
     "metadata": {},
     "output_type": "display_data"
    }
   ],
   "source": [
    "plt.figure(figsize=(12,6))\n",
    "# bar plot respect to ram\n",
    "\n",
    "sns.barplot(x=df['ram'], y =kndf['product_price'], color= '#54A4AF')\n",
    "plt.xticks(rotation='horizontal')\n",
    "plt.show()"
   ]
  },
  {
   "cell_type": "code",
   "execution_count": 68,
   "metadata": {},
   "outputs": [
    {
     "data": {
      "image/png": "[encoded data removed]",
      "text/plain": [
       "<Figure size 1200x600 with 1 Axes>"
      ]
     },
     "metadata": {},
     "output_type": "display_data"
    }
   ],
   "source": [
    "plt.figure(figsize=(12,6))\n",
    "# bar plot respect to chipset\n",
    "\n",
    "sns.barplot(x=df['chipset'], y =kndf['product_price'], color= '#54A4AF')\n",
    "plt.xticks(rotation='horizontal')\n",
    "plt.show()"
   ]
  },
  {
   "cell_type": "code",
   "execution_count": 69,
   "metadata": {},
   "outputs": [
    {
     "data": {
      "image/png": "[encoded data removed]",
      "text/plain": [
       "<Figure size 1200x600 with 1 Axes>"
      ]
     },
     "metadata": {},
     "output_type": "display_data"
    }
   ],
   "source": [
    "plt.figure(figsize=(12,6))\n",
    "# bar plot respect to brand\n",
    "\n",
    "sns.barplot(x=df['product_brand'], y =kndf['product_price'], color= '#54A4AF')\n",
    "plt.xticks(rotation='horizontal')\n",
    "plt.show()"
   ]
  },
  {
   "cell_type": "code",
   "execution_count": 70,
   "metadata": {},
   "outputs": [
    {
     "data": {
      "image/png": "[encoded data removed]",
      "text/plain": [
       "<Figure size 1200x600 with 1 Axes>"
      ]
     },
     "metadata": {},
     "output_type": "display_data"
    }
   ],
   "source": [
    "plt.figure(figsize=(12,6))\n",
    "# histogram plot with kde\n",
    "\n",
    "sns.histplot(np.log(kndf['product_price']), kde=True , color= '#54A4AF')\n",
    "plt.show()\n"
   ]
  },
  {
   "cell_type": "code",
   "execution_count": 71,
   "metadata": {},
   "outputs": [
    {
     "data": {
      "image/png": "[encoded data removed]",
      "text/plain": [
       "<Figure size 1200x600 with 1 Axes>"
      ]
     },
     "metadata": {},
     "output_type": "display_data"
    }
   ],
   "source": [
    "plt.figure(figsize=(12,6))\n",
    "# histogram plot with kde\n",
    "\n",
    "sns.histplot(kndf['product_price'], kde= True, color= '#54A4AF')\n",
    "plt.show()"
   ]
  },
  {
   "cell_type": "code",
   "execution_count": 49,
   "metadata": {},
   "outputs": [
    {
     "data": {
      "text/plain": [
       "<Axes: >"
      ]
     },
     "execution_count": 49,
     "metadata": {},
     "output_type": "execute_result"
    },
    {
     "data": {
      "image/png": "[encoded data removed]",
      "text/plain": [
       "<Figure size 1200x600 with 2 Axes>"
      ]
     },
     "metadata": {},
     "output_type": "display_data"
    }
   ],
   "source": [
    "plt.figure(figsize=(12,6))\n",
    "sns.heatmap(kndf.corr())"
   ]
  },
  {
   "cell_type": "markdown",
   "metadata": {},
   "source": [
    "## model bulding with sklearn"
   ]
  },
  {
   "cell_type": "code",
   "execution_count": 71,
   "metadata": {},
   "outputs": [],
   "source": [
    "# split the df into feature and target column\n",
    "x = kndf.drop('product_price', axis= 1)\n",
    "y = kndf['product_price']\n",
    "\n",
    "# Splitting the data into training and testing sets\n",
    "x_train, x_test, y_train, y_test = train_test_split(x, y, test_size=.2, random_state= 42)"
   ]
  },
  {
   "cell_type": "code",
   "execution_count": 72,
   "metadata": {},
   "outputs": [],
   "source": [
    "# import some library for measuring score and tuning\n",
    "from sklearn.metrics import r2_score, mean_absolute_error\n",
    "from sklearn.model_selection import GridSearchCV"
   ]
  },
  {
   "cell_type": "markdown",
   "metadata": {},
   "source": [
    "## Linear Regression (LR)"
   ]
  },
  {
   "cell_type": "code",
   "execution_count": 73,
   "metadata": {},
   "outputs": [
    {
     "name": "stdout",
     "output_type": "stream",
     "text": [
      "R-squared score: 0.892157328121949\n",
      "Mean Absolute Error: 18726.203156905307\n"
     ]
    }
   ],
   "source": [
    "from sklearn.linear_model import LinearRegression\n",
    "\n",
    "# create a linear regression model\n",
    "lr = LinearRegression()\n",
    "\n",
    "# fit the model \n",
    "model = lr.fit(x_train, y_train)\n",
    "\n",
    "# make predictions\n",
    "y_pred_lr = model.predict(x_test)\n",
    "\n",
    "# calculate r-squared score\n",
    "r2_lr = r2_score(y_test, y_pred_lr)\n",
    "print('R-squared score:', r2_lr)\n",
    "\n",
    "# calculate mean absolute error\n",
    "mae_lr = mean_absolute_error(y_test, y_pred_lr)\n",
    "print('Mean Absolute Error:', mae_lr)"
   ]
  },
  {
   "cell_type": "markdown",
   "metadata": {},
   "source": [
    "## Support Vector Regression (SVR) "
   ]
  },
  {
   "cell_type": "code",
   "execution_count": 37,
   "metadata": {},
   "outputs": [
    {
     "name": "stdout",
     "output_type": "stream",
     "text": [
      "{'C': 1, 'gamma': 'auto', 'kernel': 'linear'}\n"
     ]
    }
   ],
   "source": [
    "from sklearn.svm import SVR\n",
    "\n",
    "# define the parameter grid for grid search cv\n",
    "param_grid = {\n",
    "    'C': [0.1, 1],                                 \n",
    "    'kernel': ['linear', 'rbf'],   \n",
    "    'gamma': ['auto']             \n",
    "}\n",
    "\n",
    "# create svr model\n",
    "svr = SVR()\n",
    "\n",
    "# Create GridSearchCV\n",
    "grid_search = GridSearchCV(estimator=svr, param_grid=param_grid, cv=5, scoring='r2')\n",
    "\n",
    "# fit the grid search cv to find the best parameters\n",
    "grid_search.fit(x_train, y_train)\n",
    "\n",
    "# get the best parameters\n",
    "best_params_svr = grid_search.best_params_\n",
    "\n",
    "# print the best parameter\n",
    "print(best_params_svr)\n",
    "\n",
    "\n"
   ]
  },
  {
   "cell_type": "code",
   "execution_count": 38,
   "metadata": {},
   "outputs": [
    {
     "name": "stdout",
     "output_type": "stream",
     "text": [
      "R-squared score: 0.7714827533797926\n",
      "Mean Absolute Error: 25070.44159801626\n"
     ]
    }
   ],
   "source": [
    "# create svr with the best parameters\n",
    "best_svr = SVR(**best_params_svr)\n",
    "\n",
    "# fit the model with the best parameters\n",
    "best_svr.fit(x_train, y_train)\n",
    "\n",
    "# make predictions\n",
    "y_pred_svr = best_svr.predict(x_test)\n",
    "\n",
    "# calculate r-squared score\n",
    "r2_svr = r2_score(y_test, y_pred_svr)\n",
    "print('R-squared score:', r2_svr)\n",
    "\n",
    "# calculate mean absolute error\n",
    "mae_svr = mean_absolute_error(y_test, y_pred_svr)\n",
    "print('Mean Absolute Error:', mae_svr)"
   ]
  },
  {
   "cell_type": "markdown",
   "metadata": {},
   "source": [
    "## Decision Tree Regressor (DT)"
   ]
  },
  {
   "cell_type": "code",
   "execution_count": 50,
   "metadata": {},
   "outputs": [
    {
     "name": "stdout",
     "output_type": "stream",
     "text": [
      "{'max_depth': None, 'max_features': None, 'min_samples_leaf': 4, 'min_samples_split': 5}\n"
     ]
    }
   ],
   "source": [
    "from sklearn.tree import DecisionTreeRegressor\n",
    "\n",
    "# define the parameter grid for GridSearchCV\n",
    "param_grid = {\n",
    "    'max_depth': [3, 5, 7, None],\n",
    "    'min_samples_split': [2, 5, 10],\n",
    "    'min_samples_leaf': [1, 2, 4],\n",
    "    'max_features': ['auto', 'sqrt', 'log2', None]\n",
    "}\n",
    "\n",
    "# create decision tree regressor\n",
    "dtree = DecisionTreeRegressor()\n",
    "\n",
    "# create grid search cv\n",
    "grid_search = GridSearchCV(estimator=dtree, param_grid=param_grid, cv=5, scoring='r2')\n",
    "\n",
    "# fit the grid search cv to find the best parameters\n",
    "grid_search.fit(x_train, y_train)\n",
    "\n",
    "# get the best parameters\n",
    "best_params_dtree = grid_search.best_params_\n",
    "\n",
    "# print the best parameter\n",
    "print(best_params_dtree)\n"
   ]
  },
  {
   "cell_type": "code",
   "execution_count": 51,
   "metadata": {},
   "outputs": [
    {
     "name": "stdout",
     "output_type": "stream",
     "text": [
      "R-squared score: 0.8072750242657111\n",
      "Mean Absolute Error: 19299.09798305287\n"
     ]
    }
   ],
   "source": [
    "# define the best parameter collecting from hyperparameter tuning\n",
    "param_dt = {\n",
    "    'max_features': None,        # Number of trees in the forest\n",
    "    'max_depth': None,           # Maximum depth of the trees\n",
    "    'min_samples_split': 4,      # Minimum number of samples required to split an internal node\n",
    "    'min_samples_leaf': 5        # Minimum number of samples required to be at a leaf node\n",
    "}\n",
    "# create random forest regressor with the best parameters\n",
    "best_dt = DecisionTreeRegressor(**param_dt, random_state= 42)\n",
    "\n",
    "# fit the model with the best parameters\n",
    "best_dt.fit(x_train, y_train)\n",
    "\n",
    "# make predictions\n",
    "y_pred_dt = best_dt.predict(x_test)\n",
    "\n",
    "# calculate r-squared score\n",
    "r2_dt = r2_score(y_test, y_pred_dt)\n",
    "print('R-squared score:', r2_dt)\n",
    "\n",
    "# calculate mean absolute error\n",
    "mae_dt = mean_absolute_error(y_test, y_pred_dt)\n",
    "print('Mean Absolute Error:', mae_dt)"
   ]
  },
  {
   "cell_type": "markdown",
   "metadata": {},
   "source": [
    "## Random Forest Regression (RF)"
   ]
  },
  {
   "cell_type": "code",
   "execution_count": 52,
   "metadata": {},
   "outputs": [
    {
     "name": "stdout",
     "output_type": "stream",
     "text": [
      "Fitting 5 folds for each of 108 candidates, totalling 540 fits\n",
      "{'max_depth': 30, 'min_samples_leaf': 2, 'min_samples_split': 2, 'n_estimators': 250}\n"
     ]
    }
   ],
   "source": [
    "from sklearn.ensemble import RandomForestRegressor\n",
    "\n",
    "# define the parameter grid for grid search cv\n",
    "param_grid = {\n",
    "    'n_estimators': [250, 350, 450],  # Number of trees in the forest\n",
    "    'max_depth': [None, 10, 20, 30],   # Maximum depth of the trees\n",
    "    'min_samples_split': [2, 5, 10],   # Minimum number of samples required to split an internal node\n",
    "    'min_samples_leaf': [1, 2, 4]      # Minimum number of samples required to be at a leaf node\n",
    "}\n",
    "\n",
    "# create random forest regressor\n",
    "rf = RandomForestRegressor()\n",
    "\n",
    "# create grid search cv\n",
    "grid_search = GridSearchCV(estimator=rf, param_grid=param_grid, cv=5, scoring='r2', verbose= True)\n",
    "\n",
    "# fit the grid search cv to find the best parameters\n",
    "grid_search.fit(x_train, y_train)\n",
    "\n",
    "# get the best parameters\n",
    "best_params_rf = grid_search.best_params_\n",
    "\n",
    "# print the best parameter\n",
    "print(best_params_rf)\n"
   ]
  },
  {
   "cell_type": "code",
   "execution_count": 53,
   "metadata": {},
   "outputs": [
    {
     "name": "stdout",
     "output_type": "stream",
     "text": [
      "R-squared score: 0.8843590228984908\n",
      "Mean Absolute Error: 14081.913494206015\n"
     ]
    }
   ],
   "source": [
    "# define the best parameter collecting from hyperparameter tuning\n",
    "param_rf = {\n",
    "    'n_estimators': 450,         # Number of trees in the forest\n",
    "    'max_depth': 20,             # Maximum depth of the trees\n",
    "    'min_samples_split': 2,      # Minimum number of samples required to split an internal node\n",
    "    'min_samples_leaf': 2        # Minimum number of samples required to be at a leaf node\n",
    "}\n",
    "# create random forest regressor with the best parameters\n",
    "best_rf = RandomForestRegressor(**param_rf, random_state= 42)\n",
    "\n",
    "# fit the model with the best parameters\n",
    "best_rf.fit(x_train, y_train)\n",
    "\n",
    "# make predictions\n",
    "y_pred_rf = best_rf.predict(x_test)\n",
    "\n",
    "# calculate r-squared score\n",
    "r2_rf = r2_score(y_test, y_pred_rf)\n",
    "print('R-squared score:', r2_rf)\n",
    "\n",
    "# calculate mean absolute error\n",
    "mae_rf = mean_absolute_error(y_test, y_pred_rf)\n",
    "print('Mean Absolute Error:', mae_rf)\n"
   ]
  },
  {
   "cell_type": "markdown",
   "metadata": {},
   "source": [
    "## Gradient Boosting Regression (GBR)"
   ]
  },
  {
   "cell_type": "code",
   "execution_count": 54,
   "metadata": {},
   "outputs": [
    {
     "name": "stdout",
     "output_type": "stream",
     "text": [
      "Fitting 5 folds for each of 2916 candidates, totalling 14580 fits\n",
      "{'learning_rate': 0.15, 'max_depth': 7, 'max_features': 'sqrt', 'min_samples_leaf': 4, 'min_samples_split': 10, 'n_estimators': 150, 'subsample': 1.0}\n"
     ]
    }
   ],
   "source": [
    "from sklearn.ensemble import GradientBoostingRegressor\n",
    "\n",
    "# create a gradient boosting regressor model\n",
    "gbr = GradientBoostingRegressor()\n",
    "\n",
    "# define hyperparameters to tune\n",
    "parameters = {\n",
    "    'n_estimators': [150, 250, 450],\n",
    "    'learning_rate': [0.01, 0.1, .15],\n",
    "    'max_depth': [3, 5, 7],\n",
    "    'min_samples_split': [2, 5, 10],\n",
    "    'min_samples_leaf': [1, 2, 4],\n",
    "    'subsample': [0.5, 0.75, 1.0],\n",
    "    'max_features': ['auto', 'sqrt', 'log2', None]\n",
    "}\n",
    "\n",
    "# create grid search cv object\n",
    "grid_search = GridSearchCV(estimator=gbr, param_grid=parameters, scoring='r2', cv=5, verbose= True)\n",
    "\n",
    "# fit the grid search to the data\n",
    "grid_search.fit(x_train, y_train)\n",
    "\n",
    "# get the best model\n",
    "best_param_gbr = grid_search.best_params_\n",
    "\n",
    "# print best parameter \n",
    "print(best_param_gbr)\n"
   ]
  },
  {
   "cell_type": "code",
   "execution_count": 55,
   "metadata": {},
   "outputs": [
    {
     "name": "stdout",
     "output_type": "stream",
     "text": [
      "R-squared score: 0.9442528116419973\n",
      "Mean Absolute Error: 11260.293622878138\n"
     ]
    }
   ],
   "source": [
    "# define the best parameter collecting from hyperparameter tuning\n",
    "param_gbr= {\n",
    "    'n_estimators': 450,\n",
    "    'learning_rate': 0.15,\n",
    "    'max_depth': 7,\n",
    "    'min_samples_split': 2,\n",
    "    'min_samples_leaf': 4,\n",
    "    'subsample': 0.5,\n",
    "    'max_features': 'log2'\n",
    "}\n",
    "\n",
    "# create gradient boosting regressor with the best parameters\n",
    "best_gbr = GradientBoostingRegressor(**param_gbr, random_state=42)\n",
    "\n",
    "# fit the model with the training data\n",
    "best_gbr.fit(x_train, y_train)\n",
    "\n",
    "# use the best model for prediction\n",
    "y_pred_gbr = best_gbr.predict(x_test)\n",
    "\n",
    "# calculate r-squared score\n",
    "r2_gbr = r2_score(y_test, y_pred_gbr)\n",
    "print('R-squared score:', r2_gbr)\n",
    "\n",
    "# calculate mean absolute error\n",
    "mae_gbr = mean_absolute_error(y_test, y_pred_gbr)\n",
    "print('Mean Absolute Error:', mae_gbr)\n"
   ]
  },
  {
   "cell_type": "markdown",
   "metadata": {},
   "source": [
    "## Xgboost Regression (XGB)"
   ]
  },
  {
   "cell_type": "code",
   "execution_count": 40,
   "metadata": {},
   "outputs": [
    {
     "name": "stdout",
     "output_type": "stream",
     "text": [
      "Fitting 5 folds for each of 324 candidates, totalling 1620 fits\n",
      "{'colsample_bytree': 0.6, 'learning_rate': 0.05, 'max_depth': 6, 'n_estimators': 250, 'subsample': 0.6}\n"
     ]
    }
   ],
   "source": [
    "import xgboost as xgb\n",
    "\n",
    "# define the parameter grid for GridSearchCV\n",
    "param_grid = {\n",
    "    'n_estimators': [250, 350, 450],                # number of boosting rounds\n",
    "    'max_depth': [3, 6, 9],                         # maximum depth of a tree\n",
    "    'learning_rate': [0.05, 0.1, 1.15, 0.2],        # learning rate\n",
    "    'subsample': [0.6, 0.8, 1.0],                   # subsample ratio of the training instances\n",
    "    'colsample_bytree': [0.6, 0.8, 1.0]             # subsample ratio of columns when constructing each tree\n",
    "}\n",
    "\n",
    "# create XGBRegressor\n",
    "xg_reg = xgb.XGBRegressor()\n",
    "\n",
    "# create GridSearchCV\n",
    "grid_search = GridSearchCV(estimator=xg_reg, param_grid=param_grid, cv=5, scoring='r2', verbose= True)\n",
    "\n",
    "# fit the GridSearchCV to find the best parameters\n",
    "grid_search.fit(x_train, y_train)\n",
    "\n",
    "# get the best parameters\n",
    "best_params_xgb = grid_search.best_params_\n",
    "\n",
    "print(best_params_xgb)\n",
    "\n",
    "\n"
   ]
  },
  {
   "cell_type": "code",
   "execution_count": 74,
   "metadata": {},
   "outputs": [
    {
     "name": "stdout",
     "output_type": "stream",
     "text": [
      "R-squared score: 0.9468344806501346\n",
      "Mean Absolute Error: 11473.162285596805\n"
     ]
    }
   ],
   "source": [
    "# define the best parameter collecting from hyperparameter tuning\n",
    "param_xgb = {\n",
    "    'n_estimators': 500,                # Number of boosting rounds\n",
    "    'max_depth': 6,                     # Maximum depth of a tree\n",
    "    'learning_rate': 0.25,              # Learning rate\n",
    "    'subsample': 0.50,                   # Subsample ratio of the training instances\n",
    "    'colsample_bytree': 0.5,            # Subsample ratio of columns when constructing each tree\n",
    "}\n",
    "\n",
    "# create XGBRegressor with the best parameters\n",
    "best_xg_reg = xgb.XGBRegressor(**param_xgb)\n",
    "\n",
    "# fit the model with the best parameters\n",
    "model_xgb = best_xg_reg.fit(x_train, y_train)\n",
    "\n",
    "# make predictions\n",
    "y_pred_xgb = best_xg_reg.predict(x_test)\n",
    "\n",
    "# calculate r-squared score\n",
    "r2_xgb = r2_score(y_test, y_pred_xgb)\n",
    "print('R-squared score:', r2_xgb)\n",
    "\n",
    "# calculate mean absolute error\n",
    "mae_xgb = mean_absolute_error(y_test, y_pred_xgb)\n",
    "print('Mean Absolute Error:', mae_xgb)"
   ]
  },
  {
   "cell_type": "code",
   "execution_count": 58,
   "metadata": {},
   "outputs": [
    {
     "name": "stdout",
     "output_type": "stream",
     "text": [
      "  algorithm  r2scores           mae\n",
      "0        LR  0.892157  18726.203157\n",
      "1       SVR  0.789367  24516.108969\n",
      "2       DTR  0.807275  19299.097983\n",
      "3       RFR  0.884359  14081.913494\n",
      "4       GBR  0.944253  11260.293623\n",
      "5       XGB  0.946834  11473.162286\n"
     ]
    }
   ],
   "source": [
    "# creat a df to store the  r2 score and mae value\n",
    "algorithm = ['LR', 'SVR','DTR','RFR', 'GBR','XGB']\n",
    "r2scores = [r2_lr, r2_svr, r2_dt, r2_rf, r2_gbr, r2_xgb]\n",
    "mae = [mae_lr, mae_svr, mae_dt, mae_rf, mae_gbr, mae_xgb]\n",
    "\n",
    "score = {'algorithm': algorithm, 'r2scores': r2scores,'mae': mae}\n",
    "df_score = pd.DataFrame(score)\n",
    "print(df_score)"
   ]
  },
  {
   "cell_type": "code",
   "execution_count": 59,
   "metadata": {},
   "outputs": [
    {
     "data": {
      "image/png": "[encoded data removed]",
      "text/plain": [
       "<Figure size 1200x600 with 2 Axes>"
      ]
     },
     "metadata": {},
     "output_type": "display_data"
    }
   ],
   "source": [
    "# difine row and column through subplot\n",
    "fig, axes = plt.subplots(1, 2, figsize=(12, 6))  # 1 row, 2 columns\n",
    "\n",
    "# first subplot\n",
    "sns.barplot(data=df_score, x='algorithm', y='r2scores', ax=axes[0],color= '#54A4AF')\n",
    "axes[0].set_ylim(0.75, 1)  # set y-axis limits for the first subplot\n",
    "\n",
    "# second subplot\n",
    "sns.barplot(data=df_score, x='algorithm', y='mae', ax=axes[1], color= '#54A4AF')\n",
    "axes[1].set_ylim(10000, 25000)  # set y-axis limits for the second subplot\n",
    "\n",
    "# Compare R2 scores and MAE values to set bar colors\n",
    "r2_max = df_score['r2scores'].max()\n",
    "mae_min = df_score['mae'].min()\n",
    "\n",
    "# Set bar colors based on R2 scores\n",
    "for i, bar in enumerate(axes[0].patches):\n",
    "    if df_score.loc[i, 'r2scores'] == r2_max:\n",
    "        bar.set_facecolor('green')  # Color the bar blue if it has the highest R2 score\n",
    "    else:\n",
    "        bar.set_facecolor('gray')  # Color other bars gray\n",
    "\n",
    "# Set bar colors based on MAE values\n",
    "for i, bar in enumerate(axes[1].patches):\n",
    "    if df_score.loc[i, 'mae'] == mae_min:\n",
    "        bar.set_facecolor('green')  # Color the bar green if it has the lowest MAE value\n",
    "    else:\n",
    "        bar.set_facecolor('gray')  # Color other bars gray\n",
    "\n",
    "\n",
    "plt.tight_layout()  # adjust layout to prevent overlapping\n",
    "plt.show()\n"
   ]
  },
  {
   "cell_type": "markdown",
   "metadata": {},
   "source": [
    "## Export file "
   ]
  },
  {
   "cell_type": "code",
   "execution_count": 76,
   "metadata": {},
   "outputs": [],
   "source": [
    "# import some librrary for exporting df\n",
    "from sklearn.preprocessing import  OneHotEncoder\n",
    "from sklearn.pipeline import Pipeline\n",
    "from sklearn.compose import ColumnTransformer\n",
    "import pickle"
   ]
  },
  {
   "cell_type": "code",
   "execution_count": 77,
   "metadata": {},
   "outputs": [
    {
     "name": "stdout",
     "output_type": "stream",
     "text": [
      "R-squared score: 0.9375028683253629\n",
      "Mean Absolute Error: 11459.917675046992\n"
     ]
    }
   ],
   "source": [
    "# Define the columns to encode\n",
    "col_list = ['product_brand', 'product_model', 'chipset', 'graphics', 'operating_system', 'touch', 'display']\n",
    "\n",
    "# Create a pipeline\n",
    "pipeline = Pipeline([\n",
    "    ('encoder', ColumnTransformer(transformers=[\n",
    "        ('ordinal_encoder', OneHotEncoder(sparse=False, drop= 'first'), col_list)\n",
    "    ], remainder='passthrough')),  # Encoding for multiple columns\n",
    "    ('imputer', KNNImputer(n_neighbors=5)),  # Imputation\n",
    "    ('xgb', xgb.XGBRegressor(n_estimators=500, max_depth=5, learning_rate=0.025, subsample=0.50, colsample_bytree=0.50))  # XGBoost model with best parameters\n",
    "])\n",
    "\n",
    "# Fit the pipeline\n",
    "pipeline.fit(x_train, y_train)\n",
    "\n",
    "# Make predictions\n",
    "y_pred_xgb = pipeline.predict(x_test)\n",
    "\n",
    "# Calculate evaluation metrics\n",
    "r2_xgb = r2_score(y_test, y_pred_xgb)\n",
    "print('R-squared score:', r2_xgb)\n",
    "\n",
    "mae_xgb = mean_absolute_error(y_test, y_pred_xgb)\n",
    "print('Mean Absolute Error:', mae_xgb)"
   ]
  },
  {
   "cell_type": "code",
   "execution_count": 75,
   "metadata": {},
   "outputs": [],
   "source": [
    "# pickle.dump(kndf, open('kndf.sav', 'wb'))\n",
    "# pickle.dump(model, open('lr.sav' ,'wb'))"
   ]
  },
  {
   "cell_type": "code",
   "execution_count": 61,
   "metadata": {},
   "outputs": [],
   "source": []
  }
 ],
 "metadata": {
  "kernelspec": {
   "display_name": "Python 3",
   "language": "python",
   "name": "python3"
  },
  "language_info": {
   "codemirror_mode": {
    "name": "ipython",
    "version": 3
   },
   "file_extension": ".py",
   "mimetype": "text/x-python",
   "name": "python",
   "nbconvert_exporter": "python",
   "pygments_lexer": "ipython3",
   "version": "3.12.1"
  }
 },
 "nbformat": 4,
 "nbformat_minor": 2
}
