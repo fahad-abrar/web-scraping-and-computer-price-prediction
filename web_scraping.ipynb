{
 "cells": [
  {
   "cell_type": "code",
   "execution_count": 1,
   "metadata": {},
   "outputs": [],
   "source": [
    "import requests\n",
    "from bs4 import BeautifulSoup\n",
    "import pandas as pd\n",
    "import warnings\n",
    "warnings.filterwarnings('ignore')"
   ]
  },
  {
   "cell_type": "code",
   "execution_count": 245,
   "metadata": {},
   "outputs": [],
   "source": [
    "# define a function for scraping product link\n",
    "def scrape_product_links(url, max_links):\n",
    "    product_links = []\n",
    "    page = 1\n",
    "    while len(product_links) < max_links:\n",
    "        # Send a GET request to the URL\n",
    "        response = requests.get(url.format(page))\n",
    "        # Parse the HTML content\n",
    "        soup = BeautifulSoup(response.content, 'html.parser')\n",
    "        # Find all product links with class 'product-item-link'\n",
    "        all_links = soup.find('div', class_='main-products product-grid').find_all('div', class_= 'name')\n",
    "        # Extract product links\n",
    "        for link in all_links:\n",
    "            product_links.append(link.find('a')['href'])\n",
    "            if len(product_links) == max_links:\n",
    "                break\n",
    "        # Check if there are more pages\n",
    "        next_page_link = soup.find('a', class_='next')\n",
    "        if next_page_link:\n",
    "            page = page + 1\n",
    "            url = next_page_link['href']\n",
    "        else:\n",
    "            break\n",
    "    return product_links\n",
    "test_url= 'https://www.techlandbd.com/shop-laptop-computer/brand-laptops?page={}'\n",
    "# test the fuction for checking it works welproduct_links = scrape_product_links(test_url, 5)\n",
    "\n",
    "product_links = scrape_product_links(test_url, 1100)"
   ]
  },
  {
   "cell_type": "code",
   "execution_count": 247,
   "metadata": {},
   "outputs": [
    {
     "name": "stdout",
     "output_type": "stream",
     "text": [
      "['HP PAVILION 15-EG2117TU 15.6 INCH FULL HD IPS DISPLAY INTEL I7 12TH GEN 8GB RAM 512GB SSD LAPTOP', 'ASUS TUF GAMING A15 FA507RM 15.6 INCH FHD 144HZ DISPLAY RYZEN 7 6800H 16GB DDR5 RAM 512GB SSD GAMING LAPTOP WITH RTX\\xa03060 6GB GRAPHICS - JAEGER GRAY']\n"
     ]
    }
   ],
   "source": [
    "product_name = []\n",
    "\n",
    "for link in product_links:\n",
    "    response = requests.get(link)\n",
    "    soup = BeautifulSoup(response.content, 'html.parser')\n",
    "    names = soup.find('div', class_='title page-title')\n",
    "    \n",
    "    for name in names:\n",
    "        product_name.append(name.get_text(strip = True))\n",
    "\n",
    "print(product_name[:2])"
   ]
  },
  {
   "cell_type": "code",
   "execution_count": 248,
   "metadata": {},
   "outputs": [
    {
     "name": "stdout",
     "output_type": "stream",
     "text": [
      "['112,500৳', '181,900৳', '218,000৳']\n"
     ]
    }
   ],
   "source": [
    "product_price = []\n",
    "\n",
    "for link in product_links:\n",
    "    response = requests.get(link)\n",
    "    soup = BeautifulSoup(response.content, 'html.parser')\n",
    "    product_details = soup.find('div', class_='product-details').find_all('tr')\n",
    "\n",
    "    # Initialize variable outside the loop\n",
    "    prices = None\n",
    "\n",
    "    for price in product_details:\n",
    "        if price.find('td', text = 'product price'):\n",
    "            prices = price.find('td').find_next_sibling('td').get_text(strip=True)\n",
    "            break\n",
    "    product_price.append(prices if prices else 'not found')\n",
    "\n",
    "print(product_price[:3]) \n",
    "  "
   ]
  },
  {
   "cell_type": "code",
   "execution_count": 249,
   "metadata": {},
   "outputs": [
    {
     "name": "stdout",
     "output_type": "stream",
     "text": [
      "['PAVILION 15-EG2117TU', 'TUF GAMING A15 FA507RM', 'ROG Strix G15 G513RM']\n"
     ]
    }
   ],
   "source": [
    "product_model = []\n",
    "\n",
    "for link in product_links:\n",
    "    response = requests.get(link)\n",
    "    soup = BeautifulSoup(response.content, 'html.parser')\n",
    "    product_details = soup.find('div', class_='product-details').find_all('tr')\n",
    "\n",
    "    # Initialize variable outside the loop\n",
    "    model = None\n",
    "\n",
    "    for prod in product_details:\n",
    "        if prod.find('td', text = 'Product model'):\n",
    "            model = prod.find('td').find_next_sibling('td').get_text(strip=True)\n",
    "            break\n",
    "    if model:\n",
    "        product_model.append(model)\n",
    "\n",
    "print(product_model[:3]) \n"
   ]
  },
  {
   "cell_type": "code",
   "execution_count": 250,
   "metadata": {},
   "outputs": [
    {
     "name": "stdout",
     "output_type": "stream",
     "text": [
      "['HP', 'Asus', 'Asus']\n"
     ]
    }
   ],
   "source": [
    "product_brand = []\n",
    "\n",
    "for link in product_links:\n",
    "    response = requests.get(link)\n",
    "    soup = BeautifulSoup(response.content, 'html.parser')\n",
    "    product_details = soup.find('div', class_='product-details').find_all('tr')\n",
    "    \n",
    "    # Initialize variable outside the loop\n",
    "    brands = None\n",
    " \n",
    "    for brand in product_details:\n",
    "        if brand.find('a'):\n",
    "            brands = brand.find('a').get_text(strip = True)\n",
    "            break\n",
    "           \n",
    "    product_brand.append(brands)\n",
    "\n",
    "print(product_brand[:3])"
   ]
  },
  {
   "cell_type": "code",
   "execution_count": 252,
   "metadata": {},
   "outputs": [
    {
     "name": "stdout",
     "output_type": "stream",
     "text": [
      "['Intel Core i7-1260P\\nup to 4.7 GHz \\nIntel Turbo Boost Technology\\n18 MB L3 cache\\n12 cores\\n16 threads', 'AMD Ryzen 7 6800H Mobile Processor (8-core/16-thread, 20MB cache, up to 4.7 GHz max boost)\\n', 'AMD Ryzen 7 6800H Mobile Processor (8-core/16-thread, 20MB cache, up to 4.7 GHz max boost)']\n"
     ]
    }
   ],
   "source": [
    "chipset = []\n",
    "for link in product_links:\n",
    "    response = requests.get(link)\n",
    "    soup = BeautifulSoup(response.content, 'html.parser')\n",
    "    tables = soup.find_all('div', class_='table-responsive')\n",
    "\n",
    "    chips = None  # Initialize variable outside the loop\n",
    "    for table in tables:\n",
    "        memo = table.find('td', class_='attribute-name', text='Memory')\n",
    "        chip = table.find('td', class_='attribute-name', text='Chipset')\n",
    "        if chip or memo:\n",
    "            chips = table.find('td', class_='attribute-value').get_text()\n",
    "            break  # Exit the loop once chipset is found\n",
    "    chipset.append(chips if chips else 'not found')\n",
    "    \n",
    "print(chipset[:3])\n"
   ]
  },
  {
   "cell_type": "code",
   "execution_count": 271,
   "metadata": {},
   "outputs": [
    {
     "name": "stdout",
     "output_type": "stream",
     "text": [
      "['8 GB DDR4-3200 MHz RAM (2 x 4 GB)', '16GB DDR5-4800MHZ SO-DIMM, \\nMax Capacity:32GB, \\nSupport dual channel memory\\n', '16GB DDR5 4800MHz RAM (8+8) Expandable Ram Slots']\n"
     ]
    }
   ],
   "source": [
    "ram = []\n",
    "\n",
    "for link in product_links:\n",
    "    response = requests.get(link)\n",
    "    soup = BeautifulSoup(response.content, 'html.parser')\n",
    "    tables = soup.find_all('div', class_='table-responsive')\n",
    "\n",
    "    # Initialize variable outside the loop\n",
    "    stors = None\n",
    "    for table in tables:\n",
    "        stor = table.find('td', class_='attribute-name', text='Memory')\n",
    "        if stor:\n",
    "            stors = stor.find_next_sibling('td', class_='attribute-value').get_text()\n",
    "            break  # Exit the loop once chipset is found\n",
    "\n",
    "    ram.append(stors if stors else 'not found')\n",
    "\n",
    "print(ram[:3])"
   ]
  },
  {
   "cell_type": "code",
   "execution_count": 254,
   "metadata": {},
   "outputs": [
    {
     "name": "stdout",
     "output_type": "stream",
     "text": [
      "['Integrated\\nIntel Iris X Graphics', 'NVIDIA® GeForce RTX™ 3060 6GB GDDR6 Laptop GPU\\n\\n1752MHz* at 140W (1702MHz Boost Clock+50MHz OC,115W+25W Dynamic Boost)\\n', 'Graphic: NVIDIA\\xa0GeForce\\xa0RTX\\xa03060 Laptop GPU \\nGraphic Wattage: ROG Boost: 1752MHz* at 140W (1702MHz Boost Clock+50MHz OC, 115W+25W Dynamic Boost) \\nGraphic Memory: 6GB GDDR6\\n']\n"
     ]
    }
   ],
   "source": [
    "graphics = []\n",
    "\n",
    "for link in product_links:\n",
    "    response = requests.get(link)\n",
    "    soup = BeautifulSoup(response.content, 'html.parser')\n",
    "    tables = soup.find_all('div', class_='table-responsive')\n",
    "\n",
    "    # Initialize graphic variable outside the loop\n",
    "    graphic = None\n",
    "    for table in tables:\n",
    "        grap = table.find('td', class_='attribute-name', text='Graphics')\n",
    "        if grap:\n",
    "            graphic = grap.find_next_sibling('td', class_='attribute-value').get_text()\n",
    "            break  # Exit the loop once chipset is found\n",
    "\n",
    "    graphics.append(graphic if graphic else 'not found')\n",
    "\n",
    "print(graphics[:3])"
   ]
  },
  {
   "cell_type": "code",
   "execution_count": 257,
   "metadata": {},
   "outputs": [
    {
     "name": "stdout",
     "output_type": "stream",
     "text": [
      "['HP Wide Vision 720p HD camera with temporal noise reductionIntegrated dual array digital microphones', '720P\\xa0HD camera', 'FHD 1080P@60FPS external web cam']\n"
     ]
    }
   ],
   "source": [
    "webcams = []\n",
    "\n",
    "for link in product_links:\n",
    "    response = requests.get(link)\n",
    "    soup = BeautifulSoup(response.content, 'html.parser')\n",
    "    tables = soup.find_all('div', class_='table-responsive')\n",
    "\n",
    "    # Initialize graphic variable outside the loop\n",
    "    webcam = None\n",
    "    for table in tables:\n",
    "        web = table.find('td', class_='attribute-name', text='WebCam')\n",
    "        if web:\n",
    "            webcam = web.find_next_sibling('td', class_='attribute-value').get_text(strip = True)\n",
    "            break  # Exit the loop once chipset is found\n",
    "\n",
    "    webcams.append(webcam if webcam else 'not found')\n",
    "\n",
    "print(webcams[:3])"
   ]
  },
  {
   "cell_type": "code",
   "execution_count": 258,
   "metadata": {},
   "outputs": [
    {
     "name": "stdout",
     "output_type": "stream",
     "text": [
      "['Battery type- 3-cell, 41 Wh Li-ion \\nBattery life- Up to 7 hours 4\\nBattery recharge time- Supports battery fast charge: approximately 50% in 45 minutes', '90WHrs, 4S1P, 4-cell Li-ion\\n', '90WHrs, 4S1P, 4-cell Li-ion\\n']\n"
     ]
    }
   ],
   "source": [
    "batteries = []\n",
    "\n",
    "for link in product_links:\n",
    "    response = requests.get(link)\n",
    "    soup = BeautifulSoup(response.content, 'html.parser')\n",
    "    tables = soup.find_all('div', class_='table-responsive')\n",
    "\n",
    "    # Initialize variable outside the loop\n",
    "    battery = None\n",
    "\n",
    "    for table in tables:\n",
    "        bat = table.find('td', class_='attribute-name', text='Battery')\n",
    "\n",
    "        if bat:\n",
    "            battery = bat.find_next_sibling('td', class_='attribute-value').get_text()\n",
    "            break  # Exit the loop once chipset is found\n",
    "        \n",
    "    batteries.append(battery if battery else 'not found')\n",
    "\n",
    "print(batteries[:3])\n"
   ]
  },
  {
   "cell_type": "code",
   "execution_count": 259,
   "metadata": {},
   "outputs": [
    {
     "name": "stdout",
     "output_type": "stream",
     "text": [
      "['65 W Smart AC power adapter', 'ø6.0, 240W AC Adapter, Output: 20V DC, 12A, 240W, Input: 100~240C AC 50/60Hz universal', 'ø6.0, 240W AC Adapter, \\nOutput: 20V DC, 12A, 240W, \\nInput: 100~240C AC 50/60Hz universal \\n']\n"
     ]
    }
   ],
   "source": [
    "\n",
    "adapters = []\n",
    "for link in product_links:\n",
    "    response = requests.get(link)\n",
    "    soup = BeautifulSoup(response.content, 'html.parser')\n",
    "    tables = soup.find_all('div', class_='table-responsive')\n",
    "\n",
    "    # Initialize  variable outside the loop\n",
    "    adapter = None\n",
    "    \n",
    "    for table in tables:\n",
    "        adap = table.find('td', class_='attribute-name', text='Adapter')\n",
    "        if adap:\n",
    "            adapter = adap.find_next_sibling('td', class_='attribute-value').get_text()\n",
    "            break    #\n",
    "\n",
    "    adapters.append(adapter if adapter else 'not found')\n",
    "\n",
    "print(adapters[:3])"
   ]
  },
  {
   "cell_type": "code",
   "execution_count": 260,
   "metadata": {},
   "outputs": [
    {
     "name": "stdout",
     "output_type": "stream",
     "text": [
      "['Wi-Fi- MediaTek Wi-Fi 6 MT7921 (2x2)\\nBluetooth- Bluetooth 5.3 wireless card (supporting gigabit data rate)\\n', 'Wi-Fi 6(802.11ax) (Dual band) 2*2 ', 'Wi-Fi 6E(802.11ax)\\n']\n"
     ]
    }
   ],
   "source": [
    "connectivities = []\n",
    "\n",
    "for link in product_links:\n",
    "    response = requests.get(link)\n",
    "    soup = BeautifulSoup(response.content, 'html.parser')\n",
    "    tables = soup.find_all('div', class_='table-responsive')\n",
    "\n",
    "    # Initialize graphic variable outside the loop\n",
    "    connectivity = None\n",
    "    for table in tables:\n",
    "        connect = table.find('td', class_='attribute-name', text='Networking')\n",
    "        if connect:\n",
    "            connectivity = connect.find_next_sibling('td', class_='attribute-value').get_text()\n",
    "            break  # Exit the loop once chipset is found\n",
    "\n",
    "    connectivities.append(connectivity if connectivity else 'not found')\n",
    "\n",
    "print(connectivities[:3])"
   ]
  },
  {
   "cell_type": "code",
   "execution_count": 261,
   "metadata": {},
   "outputs": [
    {
     "name": "stdout",
     "output_type": "stream",
     "text": [
      "['Windows 11 Home ', 'Windows 11 Home\\n', 'Windows 11 Home\\n']\n"
     ]
    }
   ],
   "source": [
    "operating_system = []\n",
    "\n",
    "for link in product_links:\n",
    "    response = requests.get(link)\n",
    "    soup = BeautifulSoup(response.content, 'html.parser')\n",
    "    tables = soup.find_all('div', class_='table-responsive')\n",
    "\n",
    "    # Initialize variable outside the loop\n",
    "    operating = None\n",
    "\n",
    "    for table in tables:\n",
    "        oper = table.find('td', class_='attribute-name', text='Operating System')\n",
    "        if oper:\n",
    "            operating = oper.find_next_sibling('td', class_='attribute-value').get_text()\n",
    "            break  # Exit the loop once chipset is found\n",
    "        \n",
    "    operating_system.append(operating if operating else 'not found')\n",
    "\n",
    "print(operating_system[:3])\n"
   ]
  },
  {
   "cell_type": "code",
   "execution_count": 262,
   "metadata": {},
   "outputs": [
    {
     "name": "stdout",
     "output_type": "stream",
     "text": [
      "['36.02 x 23.4 x 1.79 cm', '35.4 x 25.1 x 2.24 ~ 2.49 cm \\n(13.94\" x 9.88\" x 0.88\" ~ 0.98\")\\n', '35.4 x 25.9 x 2.26 ~ 2.72 cm\\n']\n"
     ]
    }
   ],
   "source": [
    "dimentions = []\n",
    "\n",
    "for link in product_links:\n",
    "    response = requests.get(link)\n",
    "    soup = BeautifulSoup(response.content, 'html.parser')\n",
    "    tables = soup.find_all('div', class_='table-responsive')\n",
    "\n",
    "    # Initialize  variable outside the loop\n",
    "    dimention = None\n",
    "    \n",
    "    for table in tables:\n",
    "        dimen = table.find('td', class_='attribute-name', text='Dimension')\n",
    "        if dimen:\n",
    "            dimention = dimen.find_next_sibling('td', class_='attribute-value').get_text()\n",
    "            break  # Exit the loop once chipset is found\n",
    "        \n",
    "    dimentions.append(dimention if dimention else 'not found')\n",
    "\n",
    "print(dimentions[:3])"
   ]
  },
  {
   "cell_type": "code",
   "execution_count": null,
   "metadata": {},
   "outputs": [],
   "source": [
    "storage = []\n",
    "\n",
    "for link in product_links:\n",
    "    response = requests.get(link)\n",
    "    soup = BeautifulSoup(response.content, 'html.parser')\n",
    "    tables = soup.find_all('div', class_='table-responsive')\n",
    "\n",
    "    # Initialize variable outside the loop\n",
    "    stors = None\n",
    "    for table in tables:\n",
    "        stor = table.find('td', class_='attribute-name', text='Storage')\n",
    "        if stor:\n",
    "            stors = stor.find_next_sibling('td', class_='attribute-value').get_text()\n",
    "            break  # Exit the loop once chipset is found\n",
    "\n",
    "    storage.append(stors if stors else 'not found')\n",
    "\n",
    "print(storage[:3])"
   ]
  },
  {
   "cell_type": "code",
   "execution_count": 264,
   "metadata": {},
   "outputs": [
    {
     "name": "stdout",
     "output_type": "stream",
     "text": [
      "['1.74 kg ', '2.20 Kg (4.85 lbs)\\n', '2.30 Kg\\n']\n"
     ]
    }
   ],
   "source": [
    "weights = []\n",
    "\n",
    "for link in product_links:\n",
    "    response = requests.get(link)\n",
    "    soup = BeautifulSoup(response.content, 'html.parser')\n",
    "    tables = soup.find_all('div', class_='table-responsive')\n",
    "\n",
    "    # Initialize  variable outside the loop\n",
    "    weight = None\n",
    "    \n",
    "    for table in tables:\n",
    "        weigh = table.find('td', class_='attribute-name', text='Weight')\n",
    "        if weigh:\n",
    "            weigh = weigh.find_next_sibling('td', class_='attribute-value').get_text()\n",
    "            break  # Exit the loop once chipset is found\n",
    "        \n",
    "    weights.append(weigh if weigh else 'not found')\n",
    "\n",
    "print(weights[:3])"
   ]
  },
  {
   "cell_type": "code",
   "execution_count": 279,
   "metadata": {},
   "outputs": [],
   "source": [
    "df = pd.DataFrame({'product_name': product_name,\n",
    "                   'product_brand': product_brand,\n",
    "                   'product_model': product_model,\n",
    "                   'chipset' : chipset,\n",
    "                   'ram': ram,\n",
    "                   'graphics': graphics,\n",
    "                   'webcams':webcams,\n",
    "                   'connectivities': connectivities,\n",
    "                   'batteries':batteries,\n",
    "                   'adapters' : adapters,\n",
    "                   'operating_system': operating_system,\n",
    "                   'dimentions': dimentions,\n",
    "                   'weight' : weights,\n",
    "                   'storage' : storage\n",
    "                   'product_price':product_price\n",
    "})"
   ]
  },
  {
   "cell_type": "code",
   "execution_count": 280,
   "metadata": {},
   "outputs": [
    {
     "data": {
      "text/html": [
       "<div>\n",
       "<style scoped>\n",
       "    .dataframe tbody tr th:only-of-type {\n",
       "        vertical-align: middle;\n",
       "    }\n",
       "\n",
       "    .dataframe tbody tr th {\n",
       "        vertical-align: top;\n",
       "    }\n",
       "\n",
       "    .dataframe thead th {\n",
       "        text-align: right;\n",
       "    }\n",
       "</style>\n",
       "<table border=\"1\" class=\"dataframe\">\n",
       "  <thead>\n",
       "    <tr style=\"text-align: right;\">\n",
       "      <th></th>\n",
       "      <th>product_name</th>\n",
       "      <th>product_brand</th>\n",
       "      <th>product_model</th>\n",
       "      <th>chipset</th>\n",
       "      <th>ram</th>\n",
       "      <th>graphics</th>\n",
       "      <th>webcams</th>\n",
       "      <th>connectivities</th>\n",
       "      <th>batteries</th>\n",
       "      <th>adapters</th>\n",
       "      <th>operating_system</th>\n",
       "      <th>dimentions</th>\n",
       "      <th>weight</th>\n",
       "      <th>product_price</th>\n",
       "    </tr>\n",
       "  </thead>\n",
       "  <tbody>\n",
       "    <tr>\n",
       "      <th>0</th>\n",
       "      <td>HP PAVILION 15-EG2117TU 15.6 INCH FULL HD IPS ...</td>\n",
       "      <td>HP</td>\n",
       "      <td>PAVILION 15-EG2117TU</td>\n",
       "      <td>Intel Core i7-1260P\\nup to 4.7 GHz \\nIntel Tur...</td>\n",
       "      <td>8 GB DDR4-3200 MHz RAM (2 x 4 GB)</td>\n",
       "      <td>Integrated\\nIntel Iris X Graphics</td>\n",
       "      <td>HP Wide Vision 720p HD camera with temporal no...</td>\n",
       "      <td>Wi-Fi- MediaTek Wi-Fi 6 MT7921 (2x2)\\nBluetoot...</td>\n",
       "      <td>Battery type- 3-cell, 41 Wh Li-ion \\nBattery l...</td>\n",
       "      <td>65 W Smart AC power adapter</td>\n",
       "      <td>Windows 11 Home</td>\n",
       "      <td>36.02 x 23.4 x 1.79 cm</td>\n",
       "      <td>1.74 kg</td>\n",
       "      <td>112,500৳</td>\n",
       "    </tr>\n",
       "    <tr>\n",
       "      <th>1</th>\n",
       "      <td>ASUS TUF GAMING A15 FA507RM 15.6 INCH FHD 144H...</td>\n",
       "      <td>Asus</td>\n",
       "      <td>TUF GAMING A15 FA507RM</td>\n",
       "      <td>AMD Ryzen 7 6800H Mobile Processor (8-core/16-...</td>\n",
       "      <td>16GB DDR5-4800MHZ SO-DIMM, \\nMax Capacity:32GB...</td>\n",
       "      <td>NVIDIA® GeForce RTX™ 3060 6GB GDDR6 Laptop GPU...</td>\n",
       "      <td>720P HD camera</td>\n",
       "      <td>Wi-Fi 6(802.11ax) (Dual band) 2*2</td>\n",
       "      <td>90WHrs, 4S1P, 4-cell Li-ion\\n</td>\n",
       "      <td>ø6.0, 240W AC Adapter, Output: 20V DC, 12A, 24...</td>\n",
       "      <td>Windows 11 Home\\n</td>\n",
       "      <td>35.4 x 25.1 x 2.24 ~ 2.49 cm \\n(13.94\" x 9.88\"...</td>\n",
       "      <td>2.20 Kg (4.85 lbs)\\n</td>\n",
       "      <td>181,900৳</td>\n",
       "    </tr>\n",
       "    <tr>\n",
       "      <th>2</th>\n",
       "      <td>ASUS ROG STRIX G15 G513RM 15.6 INCH FULL HD 30...</td>\n",
       "      <td>Asus</td>\n",
       "      <td>ROG Strix G15 G513RM</td>\n",
       "      <td>AMD Ryzen 7 6800H Mobile Processor (8-core/16-...</td>\n",
       "      <td>16GB DDR5 4800MHz RAM (8+8) Expandable Ram Slots</td>\n",
       "      <td>Graphic: NVIDIA GeForce RTX 3060 Laptop GPU \\n...</td>\n",
       "      <td>FHD 1080P@60FPS external web cam</td>\n",
       "      <td>Wi-Fi 6E(802.11ax)\\n</td>\n",
       "      <td>90WHrs, 4S1P, 4-cell Li-ion\\n</td>\n",
       "      <td>ø6.0, 240W AC Adapter, \\nOutput: 20V DC, 12A, ...</td>\n",
       "      <td>Windows 11 Home\\n</td>\n",
       "      <td>35.4 x 25.9 x 2.26 ~ 2.72 cm\\n</td>\n",
       "      <td>2.30 Kg\\n</td>\n",
       "      <td>218,000৳</td>\n",
       "    </tr>\n",
       "    <tr>\n",
       "      <th>3</th>\n",
       "      <td>ASUS TUF GAMING A15 FA507RE 15.6 INCH FHD 300H...</td>\n",
       "      <td>Asus</td>\n",
       "      <td>TUF GAMING A15 FA507RE</td>\n",
       "      <td>AMD Ryzen 7 6800H Mobile Processor (8-core/16-...</td>\n",
       "      <td>16GB DDR5-4800MHZ SO-DIMM, \\nMax Capacity:32GB...</td>\n",
       "      <td>NVIDIA GeForce RTX 3050 Ti Laptop GPU, 1745MHz...</td>\n",
       "      <td>720P HD camera</td>\n",
       "      <td>Wi-Fi 6(802.11ax) (Dual band) 2*2</td>\n",
       "      <td>90WHrs, 4S1P, 4-cell Li-ion\\n</td>\n",
       "      <td>ø6.0, 180W AC Adapter, Output: 20V DC, 9A, 180...</td>\n",
       "      <td>Windows 11 Home\\n</td>\n",
       "      <td>35.4 x 25.1 x 2.24 ~ 2.49 cm \\n(13.94\" x 9.88\"...</td>\n",
       "      <td>2.20 Kg (4.85 lbs)\\n</td>\n",
       "      <td>153,900৳</td>\n",
       "    </tr>\n",
       "    <tr>\n",
       "      <th>4</th>\n",
       "      <td>ASUS TUF A15 FA506QM 15.6 INCH FHD 144HZ DISPL...</td>\n",
       "      <td>Asus</td>\n",
       "      <td>TUF GAMING A15 FA506QM</td>\n",
       "      <td>AMD Ryzen™ 7 5800H Mobile Processor (8-core/16...</td>\n",
       "      <td>16GB DDR4 3200MHz SO-DIMM\\n</td>\n",
       "      <td>NVIDIA® GeForce RTX™ 3060 Laptop GPU</td>\n",
       "      <td>720P HD camera</td>\n",
       "      <td>Wi-Fi 6(802.11ax) (Dual band) 2*2</td>\n",
       "      <td>90WHrs, 4S1P, 4-cell Li-ion\\n</td>\n",
       "      <td>ø6.0, 200W AC Adapter, Output: 20V DC, 10A, 20...</td>\n",
       "      <td>Windows 11 Home</td>\n",
       "      <td>35.9 x 25.6 x 2.28 ~ 2.45 cm</td>\n",
       "      <td>2.60 Kg</td>\n",
       "      <td>176,000৳</td>\n",
       "    </tr>\n",
       "  </tbody>\n",
       "</table>\n",
       "</div>"
      ],
      "text/plain": [
       "                                        product_name product_brand  \\\n",
       "0  HP PAVILION 15-EG2117TU 15.6 INCH FULL HD IPS ...            HP   \n",
       "1  ASUS TUF GAMING A15 FA507RM 15.6 INCH FHD 144H...          Asus   \n",
       "2  ASUS ROG STRIX G15 G513RM 15.6 INCH FULL HD 30...          Asus   \n",
       "3  ASUS TUF GAMING A15 FA507RE 15.6 INCH FHD 300H...          Asus   \n",
       "4  ASUS TUF A15 FA506QM 15.6 INCH FHD 144HZ DISPL...          Asus   \n",
       "\n",
       "            product_model                                            chipset  \\\n",
       "0    PAVILION 15-EG2117TU  Intel Core i7-1260P\\nup to 4.7 GHz \\nIntel Tur...   \n",
       "1  TUF GAMING A15 FA507RM  AMD Ryzen 7 6800H Mobile Processor (8-core/16-...   \n",
       "2    ROG Strix G15 G513RM  AMD Ryzen 7 6800H Mobile Processor (8-core/16-...   \n",
       "3  TUF GAMING A15 FA507RE  AMD Ryzen 7 6800H Mobile Processor (8-core/16-...   \n",
       "4  TUF GAMING A15 FA506QM  AMD Ryzen™ 7 5800H Mobile Processor (8-core/16...   \n",
       "\n",
       "                                                 ram  \\\n",
       "0                  8 GB DDR4-3200 MHz RAM (2 x 4 GB)   \n",
       "1  16GB DDR5-4800MHZ SO-DIMM, \\nMax Capacity:32GB...   \n",
       "2   16GB DDR5 4800MHz RAM (8+8) Expandable Ram Slots   \n",
       "3  16GB DDR5-4800MHZ SO-DIMM, \\nMax Capacity:32GB...   \n",
       "4                        16GB DDR4 3200MHz SO-DIMM\\n   \n",
       "\n",
       "                                            graphics  \\\n",
       "0                  Integrated\\nIntel Iris X Graphics   \n",
       "1  NVIDIA® GeForce RTX™ 3060 6GB GDDR6 Laptop GPU...   \n",
       "2  Graphic: NVIDIA GeForce RTX 3060 Laptop GPU \\n...   \n",
       "3  NVIDIA GeForce RTX 3050 Ti Laptop GPU, 1745MHz...   \n",
       "4               NVIDIA® GeForce RTX™ 3060 Laptop GPU   \n",
       "\n",
       "                                             webcams  \\\n",
       "0  HP Wide Vision 720p HD camera with temporal no...   \n",
       "1                                     720P HD camera   \n",
       "2                   FHD 1080P@60FPS external web cam   \n",
       "3                                     720P HD camera   \n",
       "4                                     720P HD camera   \n",
       "\n",
       "                                      connectivities  \\\n",
       "0  Wi-Fi- MediaTek Wi-Fi 6 MT7921 (2x2)\\nBluetoot...   \n",
       "1                 Wi-Fi 6(802.11ax) (Dual band) 2*2    \n",
       "2                               Wi-Fi 6E(802.11ax)\\n   \n",
       "3                 Wi-Fi 6(802.11ax) (Dual band) 2*2    \n",
       "4                  Wi-Fi 6(802.11ax) (Dual band) 2*2   \n",
       "\n",
       "                                           batteries  \\\n",
       "0  Battery type- 3-cell, 41 Wh Li-ion \\nBattery l...   \n",
       "1                      90WHrs, 4S1P, 4-cell Li-ion\\n   \n",
       "2                      90WHrs, 4S1P, 4-cell Li-ion\\n   \n",
       "3                      90WHrs, 4S1P, 4-cell Li-ion\\n   \n",
       "4                      90WHrs, 4S1P, 4-cell Li-ion\\n   \n",
       "\n",
       "                                            adapters   operating_system  \\\n",
       "0                        65 W Smart AC power adapter   Windows 11 Home    \n",
       "1  ø6.0, 240W AC Adapter, Output: 20V DC, 12A, 24...  Windows 11 Home\\n   \n",
       "2  ø6.0, 240W AC Adapter, \\nOutput: 20V DC, 12A, ...  Windows 11 Home\\n   \n",
       "3  ø6.0, 180W AC Adapter, Output: 20V DC, 9A, 180...  Windows 11 Home\\n   \n",
       "4  ø6.0, 200W AC Adapter, Output: 20V DC, 10A, 20...    Windows 11 Home   \n",
       "\n",
       "                                          dimentions                weight  \\\n",
       "0                             36.02 x 23.4 x 1.79 cm              1.74 kg    \n",
       "1  35.4 x 25.1 x 2.24 ~ 2.49 cm \\n(13.94\" x 9.88\"...  2.20 Kg (4.85 lbs)\\n   \n",
       "2                     35.4 x 25.9 x 2.26 ~ 2.72 cm\\n             2.30 Kg\\n   \n",
       "3  35.4 x 25.1 x 2.24 ~ 2.49 cm \\n(13.94\" x 9.88\"...  2.20 Kg (4.85 lbs)\\n   \n",
       "4                       35.9 x 25.6 x 2.28 ~ 2.45 cm               2.60 Kg   \n",
       "\n",
       "  product_price  \n",
       "0      112,500৳  \n",
       "1      181,900৳  \n",
       "2      218,000৳  \n",
       "3      153,900৳  \n",
       "4      176,000৳  "
      ]
     },
     "execution_count": 280,
     "metadata": {},
     "output_type": "execute_result"
    }
   ],
   "source": [
    "df.head()"
   ]
  },
  {
   "cell_type": "code",
   "execution_count": 281,
   "metadata": {},
   "outputs": [],
   "source": [
    "df.to_csv('laptop_price.csv', index=False)"
   ]
  },
  {
   "cell_type": "code",
   "execution_count": 286,
   "metadata": {},
   "outputs": [
    {
     "name": "stdout",
     "output_type": "stream",
     "text": [
      "<class 'pandas.core.frame.DataFrame'>\n",
      "RangeIndex: 1100 entries, 0 to 1099\n",
      "Data columns (total 14 columns):\n",
      " #   Column            Non-Null Count  Dtype \n",
      "---  ------            --------------  ----- \n",
      " 0   product_name      1100 non-null   object\n",
      " 1   product_brand     1100 non-null   object\n",
      " 2   product_model     1100 non-null   object\n",
      " 3   chipset           1100 non-null   object\n",
      " 4   ram               1100 non-null   object\n",
      " 5   graphics          1100 non-null   object\n",
      " 6   webcams           1100 non-null   object\n",
      " 7   connectivities    1100 non-null   object\n",
      " 8   batteries         1100 non-null   object\n",
      " 9   adapters          1100 non-null   object\n",
      " 10  operating_system  1099 non-null   object\n",
      " 11  dimentions        1100 non-null   object\n",
      " 12  weight            1100 non-null   object\n",
      " 13  product_price     1100 non-null   object\n",
      "dtypes: object(14)\n",
      "memory usage: 120.4+ KB\n",
      "None\n"
     ]
    }
   ],
   "source": [
    "new_df = pd.read_csv('laptop_price.csv')\n",
    "print(new_df.info())\n"
   ]
  },
  {
   "cell_type": "code",
   "execution_count": null,
   "metadata": {},
   "outputs": [],
   "source": [
    "# productdescription = []\n",
    "\n",
    "# for link in all_links:\n",
    "#     try:\n",
    "#         # creating a path for scraping the specific information\n",
    "#         response = requests.get(link)\n",
    "#         soup = BeautifulSoup(response.content, 'html.parser')\n",
    "#         main = soup.find('div', class_='page-wrapper')\n",
    "#         column = main.find('div', class_='column')\n",
    "#         pro_info = column.find('div' , class_ = 'product-info-main')\n",
    "#         pro_des  = pro_info.find('div', class_ = 'product info detailed')\n",
    "\n",
    "\n",
    "#         # Find product name\n",
    "#         pro_name = soup.find('h1', class_='page-title')\n",
    "#         if pro_name:\n",
    "#             productname.append(pro_name.get_text(strip=True))\n",
    "#         else:\n",
    "#             productname.append(None)\n",
    "\n",
    "#         # Find product price\n",
    "#         pro_price = soup.find('div', class_='price-box price-final_price')\n",
    "#         if pro_price:\n",
    "#             productprice.append(pro_price.get_text(strip=True))\n",
    "#         else:\n",
    "#             productprice.append(None)\n",
    "\n",
    "#         # Find product description\n",
    "#         pro_description = soup.find('div', class_='product attribute description').find('div', class_='value')\n",
    "#         if pro_description:\n",
    "#             productdescription.append(pro_description.get_text(strip=True))\n",
    "#         else:\n",
    "#             productdescription.append(None)\n",
    "\n",
    "#         # Find product specification\n",
    "#         pro_specification = soup.find('div', class_='additional-attributes-wrapper table-wrapper').find_all('td', class_='col data')\n",
    "#         specification = [spe.get_text(strip=True) for spe in pro_specification]\n",
    "#         productspecification.append(specification)\n",
    "\n",
    "#     except Exception as e:\n",
    "#         print(f'Error scraping {link}: {e}')\n",
    "\n",
    "# # create a dataframe as df\n",
    "# df = pd.DataFrame({'name': productname, 'price': productprice, 'specification': productspecification, 'description': productdescription})\n",
    "# df.head()"
   ]
  }
 ],
 "metadata": {
  "kernelspec": {
   "display_name": "Python 3",
   "language": "python",
   "name": "python3"
  },
  "language_info": {
   "codemirror_mode": {
    "name": "ipython",
    "version": 3
   },
   "file_extension": ".py",
   "mimetype": "text/x-python",
   "name": "python",
   "nbconvert_exporter": "python",
   "pygments_lexer": "ipython3",
   "version": "3.12.1"
  }
 },
 "nbformat": 4,
 "nbformat_minor": 2
}
